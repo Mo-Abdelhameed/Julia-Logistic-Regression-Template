{
 "cells": [
  {
   "cell_type": "markdown",
   "metadata": {},
   "source": [
    "## Imports"
   ]
  },
  {
   "cell_type": "code",
   "execution_count": 36,
   "metadata": {},
   "outputs": [],
   "source": [
    "# DO NOT CHANGE THESE LINES.\n",
    "using Suppressor\n",
    "@suppress begin\n",
    "    using DataFrames\n",
    "    using LazyJSON\n",
    "    using GLM \n",
    "    using MLJ \n",
    "    using MLJBase\n",
    "    using CSV\n",
    "    using Serialization\n",
    "    using MLJScientificTypes\n",
    "    using CategoricalArrays\n",
    "    using JLD2\n",
    "end\n"
   ]
  },
  {
   "cell_type": "markdown",
   "metadata": {},
   "source": [
    "## Paths"
   ]
  },
  {
   "cell_type": "code",
   "execution_count": 37,
   "metadata": {},
   "outputs": [],
   "source": [
    "# DO NOT CHANGE THESE LINES \n",
    "ROOT_DIR = dirname(pwd())\n",
    "MODEL_INPUTS_OUTPUTS = joinpath(ROOT_DIR, \"model_inputs_outputs\")\n",
    "INPUT_DIR = joinpath(MODEL_INPUTS_OUTPUTS, \"inputs\")\n",
    "INPUT_SCHEMA_DIR = joinpath(INPUT_DIR, \"schema\")\n",
    "DATA_DIR = joinpath(INPUT_DIR, \"data\")\n",
    "OUTPUT_DIR = joinpath(MODEL_INPUTS_OUTPUTS, \"outputs\")\n",
    "TRAIN_DIR = joinpath(DATA_DIR, \"training\")\n",
    "TEST_DIR = joinpath(DATA_DIR, \"testing\")\n",
    "MODEL_PATH = joinpath(MODEL_INPUTS_OUTPUTS, \"model\")\n",
    "MODEL_ARTIFACTS_PATH = joinpath(MODEL_PATH, \"artifacts\")\n",
    "OHE_ENCODER_FILE = joinpath(MODEL_ARTIFACTS_PATH, \"ohe.jld2\")\n",
    "PREDICTOR_DIR_PATH = joinpath(MODEL_ARTIFACTS_PATH, \"predictor\")\n",
    "PREDICTOR_FILE_PATH = joinpath(PREDICTOR_DIR_PATH, \"predictor.jld2\")\n",
    "IMPUTATION_FILE = joinpath(MODEL_ARTIFACTS_PATH, \"imputation.ser\")\n",
    "TOP_CATEGORIES = joinpath(MODEL_ARTIFACTS_PATH, \"top_categories.ser\")\n",
    "PREDICTIONS_DIR = joinpath(OUTPUT_DIR, \"predictions\")\n",
    "PREDICTIONS_FILE = joinpath(PREDICTIONS_DIR, \"predictions.csv\")\n",
    "TARGET_LEVELS = joinpath(MODEL_ARTIFACTS_PATH, \"target_levels.ser\")\n",
    "TARGET_MAPPING = joinpath(MODEL_ARTIFACTS_PATH, \"target_mapping.ser\")\n",
    "\n",
    "\n",
    "if !isdir(MODEL_ARTIFACTS_PATH)\n",
    "    mkdir(MODEL_ARTIFACTS_PATH)\n",
    "end\n",
    "if !isdir(PREDICTOR_DIR_PATH)\n",
    "    mkdir(PREDICTOR_DIR_PATH)\n",
    "end"
   ]
  },
  {
   "cell_type": "markdown",
   "metadata": {},
   "source": [
    "### Reading the schema"
   ]
  },
  {
   "cell_type": "code",
   "execution_count": 38,
   "metadata": {},
   "outputs": [
    {
     "data": {
      "text/plain": [
       "\"1\""
      ]
     },
     "execution_count": 38,
     "metadata": {},
     "output_type": "execute_result"
    }
   ],
   "source": [
    "# Reading a schema from a JSON file and extracting features\n",
    "file_name = first(filter(x -> endswith(x, \"json\"), readdir(INPUT_SCHEMA_DIR)))\n",
    "schema_path = joinpath(INPUT_SCHEMA_DIR, file_name)\n",
    "schema_string = read(schema_path, String)  # Read file content as a string\n",
    "schema = LazyJSON.parse(schema_string)\n",
    "features = schema[\"features\"]\n",
    "\n",
    "# Identifying numeric, categorical, and nullable features\n",
    "numeric_features = String[]\n",
    "categorical_features = String[]\n",
    "nullable_features = String[]\n",
    "\n",
    "for f in features\n",
    "    if f[\"dataType\"] == \"CATEGORICAL\"\n",
    "        push!(categorical_features, f[\"name\"])\n",
    "    else\n",
    "        push!(numeric_features, f[\"name\"])\n",
    "    end\n",
    "    if f[\"nullable\"]\n",
    "        push!(nullable_features, f[\"name\"])\n",
    "    end\n",
    "end\n",
    "\n",
    "# Extracting ID and target features\n",
    "id_feature = schema[\"id\"][\"name\"]\n",
    "target_feature = schema[\"target\"][\"name\"]\n",
    "target_classes = schema[\"target\"][\"classes\"]\n",
    "\n",
    "if length(target_classes) == 2\n",
    "    negative_class = target_classes[1]\n",
    "    positive_class = target_classes[2]\n",
    "end\n",
    "\n"
   ]
  },
  {
   "cell_type": "markdown",
   "metadata": {},
   "source": [
    "### Reading test data."
   ]
  },
  {
   "cell_type": "code",
   "execution_count": 39,
   "metadata": {},
   "outputs": [
    {
     "data": {
      "text/html": [
       "<div class=\"data-frame\"><p>2,537 rows × 26 columns (omitted printing of 19 columns)</p><table class=\"data-frame\"><thead><tr><th></th><th>id</th><th>destination</th><th>passenger</th><th>weather</th><th>temperature</th><th>time</th><th>coupon</th></tr><tr><th></th><th title=\"Int64\">Int64</th><th title=\"String15\">String15</th><th title=\"String15\">String15</th><th title=\"String7\">String7</th><th title=\"Int64\">Int64</th><th title=\"String7\">String7</th><th title=\"String31\">String31</th></tr></thead><tbody><tr><th>1</th><td>9849</td><td>Home</td><td>Partner</td><td>Rainy</td><td>55</td><td>6PM</td><td>Coffee House</td></tr><tr><th>2</th><td>8457</td><td>No Urgent Place</td><td>Friend(s)</td><td>Sunny</td><td>80</td><td>6PM</td><td>Coffee House</td></tr><tr><th>3</th><td>10270</td><td>Work</td><td>Alone</td><td>Rainy</td><td>55</td><td>7AM</td><td>Bar</td></tr><tr><th>4</th><td>7852</td><td>Home</td><td>Alone</td><td>Snowy</td><td>30</td><td>6PM</td><td>Coffee House</td></tr><tr><th>5</th><td>2020</td><td>Home</td><td>Alone</td><td>Sunny</td><td>55</td><td>6PM</td><td>Bar</td></tr><tr><th>6</th><td>10076</td><td>No Urgent Place</td><td>Alone</td><td>Sunny</td><td>80</td><td>10AM</td><td>Coffee House</td></tr><tr><th>7</th><td>9611</td><td>Home</td><td>Partner</td><td>Sunny</td><td>30</td><td>10PM</td><td>Restaurant(&lt;20)</td></tr><tr><th>8</th><td>5700</td><td>No Urgent Place</td><td>Friend(s)</td><td>Sunny</td><td>80</td><td>6PM</td><td>Restaurant(&lt;20)</td></tr><tr><th>9</th><td>11845</td><td>No Urgent Place</td><td>Friend(s)</td><td>Sunny</td><td>80</td><td>6PM</td><td>Restaurant(&lt;20)</td></tr><tr><th>10</th><td>4077</td><td>Home</td><td>Alone</td><td>Sunny</td><td>80</td><td>6PM</td><td>Restaurant(&lt;20)</td></tr><tr><th>11</th><td>7188</td><td>Home</td><td>Alone</td><td>Snowy</td><td>30</td><td>10PM</td><td>Restaurant(20-50)</td></tr><tr><th>12</th><td>8401</td><td>Home</td><td>Alone</td><td>Snowy</td><td>30</td><td>10PM</td><td>Restaurant(20-50)</td></tr><tr><th>13</th><td>2840</td><td>Work</td><td>Alone</td><td>Sunny</td><td>80</td><td>7AM</td><td>Restaurant(20-50)</td></tr><tr><th>14</th><td>6220</td><td>No Urgent Place</td><td>Kid(s)</td><td>Sunny</td><td>80</td><td>10AM</td><td>Carry out &amp; Take away</td></tr><tr><th>15</th><td>10065</td><td>Home</td><td>Alone</td><td>Sunny</td><td>80</td><td>6PM</td><td>Carry out &amp; Take away</td></tr><tr><th>16</th><td>4993</td><td>Home</td><td>Alone</td><td>Sunny</td><td>80</td><td>6PM</td><td>Restaurant(&lt;20)</td></tr><tr><th>17</th><td>6459</td><td>Home</td><td>Alone</td><td>Sunny</td><td>80</td><td>6PM</td><td>Coffee House</td></tr><tr><th>18</th><td>8683</td><td>Home</td><td>Alone</td><td>Sunny</td><td>30</td><td>6PM</td><td>Carry out &amp; Take away</td></tr><tr><th>19</th><td>3658</td><td>No Urgent Place</td><td>Kid(s)</td><td>Sunny</td><td>55</td><td>6PM</td><td>Coffee House</td></tr><tr><th>20</th><td>9264</td><td>Work</td><td>Alone</td><td>Sunny</td><td>30</td><td>7AM</td><td>Bar</td></tr><tr><th>21</th><td>8170</td><td>No Urgent Place</td><td>Friend(s)</td><td>Sunny</td><td>80</td><td>6PM</td><td>Coffee House</td></tr><tr><th>22</th><td>10658</td><td>Work</td><td>Alone</td><td>Sunny</td><td>30</td><td>7AM</td><td>Carry out &amp; Take away</td></tr><tr><th>23</th><td>9050</td><td>No Urgent Place</td><td>Kid(s)</td><td>Sunny</td><td>80</td><td>10AM</td><td>Coffee House</td></tr><tr><th>24</th><td>9854</td><td>Work</td><td>Alone</td><td>Rainy</td><td>55</td><td>7AM</td><td>Bar</td></tr><tr><th>25</th><td>3305</td><td>No Urgent Place</td><td>Friend(s)</td><td>Sunny</td><td>55</td><td>2PM</td><td>Carry out &amp; Take away</td></tr><tr><th>26</th><td>5500</td><td>No Urgent Place</td><td>Alone</td><td>Sunny</td><td>80</td><td>10AM</td><td>Bar</td></tr><tr><th>27</th><td>8282</td><td>No Urgent Place</td><td>Friend(s)</td><td>Sunny</td><td>55</td><td>6PM</td><td>Carry out &amp; Take away</td></tr><tr><th>28</th><td>8663</td><td>Home</td><td>Alone</td><td>Snowy</td><td>30</td><td>6PM</td><td>Coffee House</td></tr><tr><th>29</th><td>4617</td><td>Home</td><td>Alone</td><td>Sunny</td><td>55</td><td>6PM</td><td>Restaurant(20-50)</td></tr><tr><th>30</th><td>5568</td><td>No Urgent Place</td><td>Friend(s)</td><td>Sunny</td><td>80</td><td>6PM</td><td>Restaurant(&lt;20)</td></tr><tr><th>&vellip;</th><td>&vellip;</td><td>&vellip;</td><td>&vellip;</td><td>&vellip;</td><td>&vellip;</td><td>&vellip;</td><td>&vellip;</td></tr></tbody></table></div>"
      ],
      "text/latex": [
       "\\begin{tabular}{r|cccccccc}\n",
       "\t& id & destination & passenger & weather & temperature & time & coupon & \\\\\n",
       "\t\\hline\n",
       "\t& Int64 & String15 & String15 & String7 & Int64 & String7 & String31 & \\\\\n",
       "\t\\hline\n",
       "\t1 & 9849 & Home & Partner & Rainy & 55 & 6PM & Coffee House & $\\dots$ \\\\\n",
       "\t2 & 8457 & No Urgent Place & Friend(s) & Sunny & 80 & 6PM & Coffee House & $\\dots$ \\\\\n",
       "\t3 & 10270 & Work & Alone & Rainy & 55 & 7AM & Bar & $\\dots$ \\\\\n",
       "\t4 & 7852 & Home & Alone & Snowy & 30 & 6PM & Coffee House & $\\dots$ \\\\\n",
       "\t5 & 2020 & Home & Alone & Sunny & 55 & 6PM & Bar & $\\dots$ \\\\\n",
       "\t6 & 10076 & No Urgent Place & Alone & Sunny & 80 & 10AM & Coffee House & $\\dots$ \\\\\n",
       "\t7 & 9611 & Home & Partner & Sunny & 30 & 10PM & Restaurant(<20) & $\\dots$ \\\\\n",
       "\t8 & 5700 & No Urgent Place & Friend(s) & Sunny & 80 & 6PM & Restaurant(<20) & $\\dots$ \\\\\n",
       "\t9 & 11845 & No Urgent Place & Friend(s) & Sunny & 80 & 6PM & Restaurant(<20) & $\\dots$ \\\\\n",
       "\t10 & 4077 & Home & Alone & Sunny & 80 & 6PM & Restaurant(<20) & $\\dots$ \\\\\n",
       "\t11 & 7188 & Home & Alone & Snowy & 30 & 10PM & Restaurant(20-50) & $\\dots$ \\\\\n",
       "\t12 & 8401 & Home & Alone & Snowy & 30 & 10PM & Restaurant(20-50) & $\\dots$ \\\\\n",
       "\t13 & 2840 & Work & Alone & Sunny & 80 & 7AM & Restaurant(20-50) & $\\dots$ \\\\\n",
       "\t14 & 6220 & No Urgent Place & Kid(s) & Sunny & 80 & 10AM & Carry out \\& Take away & $\\dots$ \\\\\n",
       "\t15 & 10065 & Home & Alone & Sunny & 80 & 6PM & Carry out \\& Take away & $\\dots$ \\\\\n",
       "\t16 & 4993 & Home & Alone & Sunny & 80 & 6PM & Restaurant(<20) & $\\dots$ \\\\\n",
       "\t17 & 6459 & Home & Alone & Sunny & 80 & 6PM & Coffee House & $\\dots$ \\\\\n",
       "\t18 & 8683 & Home & Alone & Sunny & 30 & 6PM & Carry out \\& Take away & $\\dots$ \\\\\n",
       "\t19 & 3658 & No Urgent Place & Kid(s) & Sunny & 55 & 6PM & Coffee House & $\\dots$ \\\\\n",
       "\t20 & 9264 & Work & Alone & Sunny & 30 & 7AM & Bar & $\\dots$ \\\\\n",
       "\t21 & 8170 & No Urgent Place & Friend(s) & Sunny & 80 & 6PM & Coffee House & $\\dots$ \\\\\n",
       "\t22 & 10658 & Work & Alone & Sunny & 30 & 7AM & Carry out \\& Take away & $\\dots$ \\\\\n",
       "\t23 & 9050 & No Urgent Place & Kid(s) & Sunny & 80 & 10AM & Coffee House & $\\dots$ \\\\\n",
       "\t24 & 9854 & Work & Alone & Rainy & 55 & 7AM & Bar & $\\dots$ \\\\\n",
       "\t25 & 3305 & No Urgent Place & Friend(s) & Sunny & 55 & 2PM & Carry out \\& Take away & $\\dots$ \\\\\n",
       "\t26 & 5500 & No Urgent Place & Alone & Sunny & 80 & 10AM & Bar & $\\dots$ \\\\\n",
       "\t27 & 8282 & No Urgent Place & Friend(s) & Sunny & 55 & 6PM & Carry out \\& Take away & $\\dots$ \\\\\n",
       "\t28 & 8663 & Home & Alone & Snowy & 30 & 6PM & Coffee House & $\\dots$ \\\\\n",
       "\t29 & 4617 & Home & Alone & Sunny & 55 & 6PM & Restaurant(20-50) & $\\dots$ \\\\\n",
       "\t30 & 5568 & No Urgent Place & Friend(s) & Sunny & 80 & 6PM & Restaurant(<20) & $\\dots$ \\\\\n",
       "\t$\\dots$ & $\\dots$ & $\\dots$ & $\\dots$ & $\\dots$ & $\\dots$ & $\\dots$ & $\\dots$ &  \\\\\n",
       "\\end{tabular}\n"
      ],
      "text/plain": [
       "\u001b[1m2537×26 DataFrame\u001b[0m\n",
       "\u001b[1m  Row \u001b[0m│\u001b[1m id    \u001b[0m\u001b[1m destination     \u001b[0m\u001b[1m passenger \u001b[0m\u001b[1m weather \u001b[0m\u001b[1m temperature \u001b[0m\u001b[1m time    \u001b[0m\u001b[1m coup\u001b[0m ⋯\n",
       "\u001b[1m      \u001b[0m│\u001b[90m Int64 \u001b[0m\u001b[90m String15        \u001b[0m\u001b[90m String15  \u001b[0m\u001b[90m String7 \u001b[0m\u001b[90m Int64       \u001b[0m\u001b[90m String7 \u001b[0m\u001b[90m Stri\u001b[0m ⋯\n",
       "──────┼─────────────────────────────────────────────────────────────────────────\n",
       "    1 │  9849  Home             Partner    Rainy             55  6PM      Coff ⋯\n",
       "    2 │  8457  No Urgent Place  Friend(s)  Sunny             80  6PM      Coff\n",
       "    3 │ 10270  Work             Alone      Rainy             55  7AM      Bar\n",
       "    4 │  7852  Home             Alone      Snowy             30  6PM      Coff\n",
       "    5 │  2020  Home             Alone      Sunny             55  6PM      Bar  ⋯\n",
       "    6 │ 10076  No Urgent Place  Alone      Sunny             80  10AM     Coff\n",
       "    7 │  9611  Home             Partner    Sunny             30  10PM     Rest\n",
       "    8 │  5700  No Urgent Place  Friend(s)  Sunny             80  6PM      Rest\n",
       "    9 │ 11845  No Urgent Place  Friend(s)  Sunny             80  6PM      Rest ⋯\n",
       "   10 │  4077  Home             Alone      Sunny             80  6PM      Rest\n",
       "   11 │  7188  Home             Alone      Snowy             30  10PM     Rest\n",
       "  ⋮   │   ⋮           ⋮             ⋮         ⋮          ⋮          ⋮          ⋱\n",
       " 2528 │  6210  Work             Alone      Sunny             80  7AM      Coff\n",
       " 2529 │ 10163  Work             Alone      Snowy             30  7AM      Carr ⋯\n",
       " 2530 │  6664  Work             Alone      Sunny             80  7AM      Coff\n",
       " 2531 │  9838  No Urgent Place  Alone      Snowy             30  2PM      Bar\n",
       " 2532 │  2993  No Urgent Place  Friend(s)  Sunny             55  2PM      Carr\n",
       " 2533 │  2620  Work             Alone      Sunny             55  7AM      Coff ⋯\n",
       " 2534 │  6753  Work             Alone      Snowy             30  7AM      Carr\n",
       " 2535 │  7120  Home             Alone      Sunny             30  6PM      Carr\n",
       " 2536 │ 12333  No Urgent Place  Friend(s)  Snowy             30  2PM      Rest\n",
       " 2537 │  9321  No Urgent Place  Alone      Rainy             55  10AM     Coff ⋯\n",
       "\u001b[36m                                                20 columns and 2516 rows omitted\u001b[0m"
      ]
     },
     "execution_count": 39,
     "metadata": {},
     "output_type": "execute_result"
    }
   ],
   "source": [
    "file_name = filter(x -> occursin(\".csv\", x), readdir(TEST_DIR))[1]\n",
    "file_path = joinpath(TEST_DIR, file_name)\n",
    "df = DataFrame(CSV.File(file_path))"
   ]
  },
  {
   "cell_type": "markdown",
   "metadata": {},
   "source": [
    "## Data preprocessing\n",
    "Note that when we work with testing data, we have to impute using the same values learned during training. This is to avoid data leakage."
   ]
  },
  {
   "cell_type": "code",
   "execution_count": 40,
   "metadata": {},
   "outputs": [
    {
     "data": {
      "text/html": [
       "<div class=\"data-frame\"><p>2,537 rows × 25 columns (omitted printing of 19 columns)</p><table class=\"data-frame\"><thead><tr><th></th><th>destination</th><th>passenger</th><th>weather</th><th>temperature</th><th>time</th><th>coupon</th></tr><tr><th></th><th title=\"String15\">String15</th><th title=\"String15\">String15</th><th title=\"String7\">String7</th><th title=\"Int64\">Int64</th><th title=\"String7\">String7</th><th title=\"String31\">String31</th></tr></thead><tbody><tr><th>1</th><td>Home</td><td>Partner</td><td>Rainy</td><td>55</td><td>6PM</td><td>Coffee House</td></tr><tr><th>2</th><td>No Urgent Place</td><td>Friend(s)</td><td>Sunny</td><td>80</td><td>6PM</td><td>Coffee House</td></tr><tr><th>3</th><td>Work</td><td>Alone</td><td>Rainy</td><td>55</td><td>7AM</td><td>Bar</td></tr><tr><th>4</th><td>Home</td><td>Alone</td><td>Snowy</td><td>30</td><td>6PM</td><td>Coffee House</td></tr><tr><th>5</th><td>Home</td><td>Alone</td><td>Sunny</td><td>55</td><td>6PM</td><td>Bar</td></tr><tr><th>6</th><td>No Urgent Place</td><td>Alone</td><td>Sunny</td><td>80</td><td>10AM</td><td>Coffee House</td></tr><tr><th>7</th><td>Home</td><td>Partner</td><td>Sunny</td><td>30</td><td>10PM</td><td>Restaurant(&lt;20)</td></tr><tr><th>8</th><td>No Urgent Place</td><td>Friend(s)</td><td>Sunny</td><td>80</td><td>6PM</td><td>Restaurant(&lt;20)</td></tr><tr><th>9</th><td>No Urgent Place</td><td>Friend(s)</td><td>Sunny</td><td>80</td><td>6PM</td><td>Restaurant(&lt;20)</td></tr><tr><th>10</th><td>Home</td><td>Alone</td><td>Sunny</td><td>80</td><td>6PM</td><td>Restaurant(&lt;20)</td></tr><tr><th>11</th><td>Home</td><td>Alone</td><td>Snowy</td><td>30</td><td>10PM</td><td>Restaurant(20-50)</td></tr><tr><th>12</th><td>Home</td><td>Alone</td><td>Snowy</td><td>30</td><td>10PM</td><td>Restaurant(20-50)</td></tr><tr><th>13</th><td>Work</td><td>Alone</td><td>Sunny</td><td>80</td><td>7AM</td><td>Restaurant(20-50)</td></tr><tr><th>14</th><td>No Urgent Place</td><td>Kid(s)</td><td>Sunny</td><td>80</td><td>10AM</td><td>Carry out &amp; Take away</td></tr><tr><th>15</th><td>Home</td><td>Alone</td><td>Sunny</td><td>80</td><td>6PM</td><td>Carry out &amp; Take away</td></tr><tr><th>16</th><td>Home</td><td>Alone</td><td>Sunny</td><td>80</td><td>6PM</td><td>Restaurant(&lt;20)</td></tr><tr><th>17</th><td>Home</td><td>Alone</td><td>Sunny</td><td>80</td><td>6PM</td><td>Coffee House</td></tr><tr><th>18</th><td>Home</td><td>Alone</td><td>Sunny</td><td>30</td><td>6PM</td><td>Carry out &amp; Take away</td></tr><tr><th>19</th><td>No Urgent Place</td><td>Kid(s)</td><td>Sunny</td><td>55</td><td>6PM</td><td>Coffee House</td></tr><tr><th>20</th><td>Work</td><td>Alone</td><td>Sunny</td><td>30</td><td>7AM</td><td>Bar</td></tr><tr><th>21</th><td>No Urgent Place</td><td>Friend(s)</td><td>Sunny</td><td>80</td><td>6PM</td><td>Coffee House</td></tr><tr><th>22</th><td>Work</td><td>Alone</td><td>Sunny</td><td>30</td><td>7AM</td><td>Carry out &amp; Take away</td></tr><tr><th>23</th><td>No Urgent Place</td><td>Kid(s)</td><td>Sunny</td><td>80</td><td>10AM</td><td>Coffee House</td></tr><tr><th>24</th><td>Work</td><td>Alone</td><td>Rainy</td><td>55</td><td>7AM</td><td>Bar</td></tr><tr><th>25</th><td>No Urgent Place</td><td>Friend(s)</td><td>Sunny</td><td>55</td><td>2PM</td><td>Carry out &amp; Take away</td></tr><tr><th>26</th><td>No Urgent Place</td><td>Alone</td><td>Sunny</td><td>80</td><td>10AM</td><td>Bar</td></tr><tr><th>27</th><td>No Urgent Place</td><td>Friend(s)</td><td>Sunny</td><td>55</td><td>6PM</td><td>Carry out &amp; Take away</td></tr><tr><th>28</th><td>Home</td><td>Alone</td><td>Snowy</td><td>30</td><td>6PM</td><td>Coffee House</td></tr><tr><th>29</th><td>Home</td><td>Alone</td><td>Sunny</td><td>55</td><td>6PM</td><td>Restaurant(20-50)</td></tr><tr><th>30</th><td>No Urgent Place</td><td>Friend(s)</td><td>Sunny</td><td>80</td><td>6PM</td><td>Restaurant(&lt;20)</td></tr><tr><th>&vellip;</th><td>&vellip;</td><td>&vellip;</td><td>&vellip;</td><td>&vellip;</td><td>&vellip;</td><td>&vellip;</td></tr></tbody></table></div>"
      ],
      "text/latex": [
       "\\begin{tabular}{r|ccccccc}\n",
       "\t& destination & passenger & weather & temperature & time & coupon & \\\\\n",
       "\t\\hline\n",
       "\t& String15 & String15 & String7 & Int64 & String7 & String31 & \\\\\n",
       "\t\\hline\n",
       "\t1 & Home & Partner & Rainy & 55 & 6PM & Coffee House & $\\dots$ \\\\\n",
       "\t2 & No Urgent Place & Friend(s) & Sunny & 80 & 6PM & Coffee House & $\\dots$ \\\\\n",
       "\t3 & Work & Alone & Rainy & 55 & 7AM & Bar & $\\dots$ \\\\\n",
       "\t4 & Home & Alone & Snowy & 30 & 6PM & Coffee House & $\\dots$ \\\\\n",
       "\t5 & Home & Alone & Sunny & 55 & 6PM & Bar & $\\dots$ \\\\\n",
       "\t6 & No Urgent Place & Alone & Sunny & 80 & 10AM & Coffee House & $\\dots$ \\\\\n",
       "\t7 & Home & Partner & Sunny & 30 & 10PM & Restaurant(<20) & $\\dots$ \\\\\n",
       "\t8 & No Urgent Place & Friend(s) & Sunny & 80 & 6PM & Restaurant(<20) & $\\dots$ \\\\\n",
       "\t9 & No Urgent Place & Friend(s) & Sunny & 80 & 6PM & Restaurant(<20) & $\\dots$ \\\\\n",
       "\t10 & Home & Alone & Sunny & 80 & 6PM & Restaurant(<20) & $\\dots$ \\\\\n",
       "\t11 & Home & Alone & Snowy & 30 & 10PM & Restaurant(20-50) & $\\dots$ \\\\\n",
       "\t12 & Home & Alone & Snowy & 30 & 10PM & Restaurant(20-50) & $\\dots$ \\\\\n",
       "\t13 & Work & Alone & Sunny & 80 & 7AM & Restaurant(20-50) & $\\dots$ \\\\\n",
       "\t14 & No Urgent Place & Kid(s) & Sunny & 80 & 10AM & Carry out \\& Take away & $\\dots$ \\\\\n",
       "\t15 & Home & Alone & Sunny & 80 & 6PM & Carry out \\& Take away & $\\dots$ \\\\\n",
       "\t16 & Home & Alone & Sunny & 80 & 6PM & Restaurant(<20) & $\\dots$ \\\\\n",
       "\t17 & Home & Alone & Sunny & 80 & 6PM & Coffee House & $\\dots$ \\\\\n",
       "\t18 & Home & Alone & Sunny & 30 & 6PM & Carry out \\& Take away & $\\dots$ \\\\\n",
       "\t19 & No Urgent Place & Kid(s) & Sunny & 55 & 6PM & Coffee House & $\\dots$ \\\\\n",
       "\t20 & Work & Alone & Sunny & 30 & 7AM & Bar & $\\dots$ \\\\\n",
       "\t21 & No Urgent Place & Friend(s) & Sunny & 80 & 6PM & Coffee House & $\\dots$ \\\\\n",
       "\t22 & Work & Alone & Sunny & 30 & 7AM & Carry out \\& Take away & $\\dots$ \\\\\n",
       "\t23 & No Urgent Place & Kid(s) & Sunny & 80 & 10AM & Coffee House & $\\dots$ \\\\\n",
       "\t24 & Work & Alone & Rainy & 55 & 7AM & Bar & $\\dots$ \\\\\n",
       "\t25 & No Urgent Place & Friend(s) & Sunny & 55 & 2PM & Carry out \\& Take away & $\\dots$ \\\\\n",
       "\t26 & No Urgent Place & Alone & Sunny & 80 & 10AM & Bar & $\\dots$ \\\\\n",
       "\t27 & No Urgent Place & Friend(s) & Sunny & 55 & 6PM & Carry out \\& Take away & $\\dots$ \\\\\n",
       "\t28 & Home & Alone & Snowy & 30 & 6PM & Coffee House & $\\dots$ \\\\\n",
       "\t29 & Home & Alone & Sunny & 55 & 6PM & Restaurant(20-50) & $\\dots$ \\\\\n",
       "\t30 & No Urgent Place & Friend(s) & Sunny & 80 & 6PM & Restaurant(<20) & $\\dots$ \\\\\n",
       "\t$\\dots$ & $\\dots$ & $\\dots$ & $\\dots$ & $\\dots$ & $\\dots$ & $\\dots$ &  \\\\\n",
       "\\end{tabular}\n"
      ],
      "text/plain": [
       "\u001b[1m2537×25 DataFrame\u001b[0m\n",
       "\u001b[1m  Row \u001b[0m│\u001b[1m destination     \u001b[0m\u001b[1m passenger \u001b[0m\u001b[1m weather \u001b[0m\u001b[1m temperature \u001b[0m\u001b[1m time    \u001b[0m\u001b[1m coupon     \u001b[0m ⋯\n",
       "\u001b[1m      \u001b[0m│\u001b[90m String15        \u001b[0m\u001b[90m String15  \u001b[0m\u001b[90m String7 \u001b[0m\u001b[90m Int64       \u001b[0m\u001b[90m String7 \u001b[0m\u001b[90m String31   \u001b[0m ⋯\n",
       "──────┼─────────────────────────────────────────────────────────────────────────\n",
       "    1 │ Home             Partner    Rainy             55  6PM      Coffee Hous ⋯\n",
       "    2 │ No Urgent Place  Friend(s)  Sunny             80  6PM      Coffee Hous\n",
       "    3 │ Work             Alone      Rainy             55  7AM      Bar\n",
       "    4 │ Home             Alone      Snowy             30  6PM      Coffee Hous\n",
       "    5 │ Home             Alone      Sunny             55  6PM      Bar         ⋯\n",
       "    6 │ No Urgent Place  Alone      Sunny             80  10AM     Coffee Hous\n",
       "    7 │ Home             Partner    Sunny             30  10PM     Restaurant(\n",
       "    8 │ No Urgent Place  Friend(s)  Sunny             80  6PM      Restaurant(\n",
       "    9 │ No Urgent Place  Friend(s)  Sunny             80  6PM      Restaurant( ⋯\n",
       "   10 │ Home             Alone      Sunny             80  6PM      Restaurant(\n",
       "   11 │ Home             Alone      Snowy             30  10PM     Restaurant(\n",
       "  ⋮   │        ⋮             ⋮         ⋮          ⋮          ⋮               ⋮ ⋱\n",
       " 2528 │ Work             Alone      Sunny             80  7AM      Coffee Hous\n",
       " 2529 │ Work             Alone      Snowy             30  7AM      Carry out & ⋯\n",
       " 2530 │ Work             Alone      Sunny             80  7AM      Coffee Hous\n",
       " 2531 │ No Urgent Place  Alone      Snowy             30  2PM      Bar\n",
       " 2532 │ No Urgent Place  Friend(s)  Sunny             55  2PM      Carry out &\n",
       " 2533 │ Work             Alone      Sunny             55  7AM      Coffee Hous ⋯\n",
       " 2534 │ Work             Alone      Snowy             30  7AM      Carry out &\n",
       " 2535 │ Home             Alone      Sunny             30  6PM      Carry out &\n",
       " 2536 │ No Urgent Place  Friend(s)  Snowy             30  2PM      Restaurant(\n",
       " 2537 │ No Urgent Place  Alone      Rainy             55  10AM     Coffee Hous ⋯\n",
       "\u001b[36m                                                20 columns and 2516 rows omitted\u001b[0m"
      ]
     },
     "execution_count": 40,
     "metadata": {},
     "output_type": "execute_result"
    }
   ],
   "source": [
    "imputation_values = open(deserialize, IMPUTATION_FILE)\n",
    "for column in nullable_features\n",
    "    df[!, Symbol(column)] .= coalesce.(df[!, Symbol(column)], get(imputation_values, string(column), missing))\n",
    "end\n",
    "\n",
    "# Saving the id column in a different variable\n",
    "ids = df[!, Symbol(id_feature)]\n",
    "\n",
    "# Dropping the id and target from the DataFrame\n",
    "select!(df, Not([Symbol(id_feature)]))"
   ]
  },
  {
   "cell_type": "markdown",
   "metadata": {},
   "source": [
    "### Encoding\n",
    "We encode the data using the same encoder that we saved during training."
   ]
  },
  {
   "cell_type": "code",
   "execution_count": 41,
   "metadata": {},
   "outputs": [],
   "source": [
    "loaded_top_categories = open(deserialize, TOP_CATEGORIES)\n",
    "\n",
    "# Function to one-hot encode only the top 10 categories\n",
    "function one_hot_top_categories!(df, top_categories)\n",
    "    for (feature, top_cats) in top_categories\n",
    "        if length(top_cats) == 2  # Handle the binary case\n",
    "            # Assuming the first category in top_cats is treated as 'true'\n",
    "            new_col_name = \"$(feature)_binary\"\n",
    "            df[!, new_col_name] = df[!, feature] .== top_cats[1]\n",
    "        else  # Handle the general case\n",
    "            for cat in top_cats\n",
    "                new_col_name = \"$(feature)_$(cat)\"\n",
    "                df[!, new_col_name] = df[!, feature] .== cat\n",
    "            end\n",
    "        end\n",
    "        select!(df, Not(Symbol(feature)))  # Drop the original feature column\n",
    "    end\n",
    "end\n",
    "\n",
    "\n",
    "\n",
    "one_hot_top_categories!(df, loaded_top_categories)"
   ]
  },
  {
   "cell_type": "markdown",
   "metadata": {},
   "source": [
    "### Making predictions\n",
    "Using the model saved during training."
   ]
  },
  {
   "cell_type": "code",
   "execution_count": 42,
   "metadata": {},
   "outputs": [
    {
     "data": {
      "text/plain": [
       "2537-element Vector{Int64}:\n",
       " 1\n",
       " 1\n",
       " 1\n",
       " 1\n",
       " 1\n",
       " 1\n",
       " 1\n",
       " 1\n",
       " 1\n",
       " 1\n",
       " 1\n",
       " 1\n",
       " 1\n",
       " ⋮\n",
       " 1\n",
       " 1\n",
       " 1\n",
       " 1\n",
       " 1\n",
       " 1\n",
       " 1\n",
       " 1\n",
       " 1\n",
       " 1\n",
       " 1\n",
       " 1"
      ]
     },
     "execution_count": 42,
     "metadata": {},
     "output_type": "execute_result"
    }
   ],
   "source": [
    "# Load the saved model\n",
    "loaded_mapping = open(deserialize, TARGET_MAPPING)\n",
    "model = open(deserialize, PREDICTOR_FILE_PATH)\n",
    "\n",
    "# Make predictions\n",
    "log_odds_predictions = GLM.predict(model, convert(Matrix{Float64}, Matrix(df)))\n",
    "probabilities = 1 ./ (1 .+ exp.(-log_odds_predictions))\n",
    "threshold = 0.5\n",
    "integer_predictions = ifelse.(probabilities .> threshold, 1, 0)\n",
    "label_predictions = [loaded_mapping[pred] for pred in integer_predictions]\n",
    "target_levels = open(deserialize, TARGET_LEVELS)\n",
    "label_predictions = target_levels[integer_predictions .+ 1]\n"
   ]
  },
  {
   "cell_type": "markdown",
   "metadata": {},
   "source": [
    "### Creating predictions DataFrame."
   ]
  },
  {
   "cell_type": "code",
   "execution_count": 43,
   "metadata": {},
   "outputs": [
    {
     "data": {
      "text/html": [
       "<div class=\"data-frame\"><p>2,537 rows × 3 columns</p><table class=\"data-frame\"><thead><tr><th></th><th>0</th><th>1</th><th>id</th></tr><tr><th></th><th title=\"Float64\">Float64</th><th title=\"Float64\">Float64</th><th title=\"Int64\">Int64</th></tr></thead><tbody><tr><th>1</th><td>0.5</td><td>0.5</td><td>9849</td></tr><tr><th>2</th><td>0.5</td><td>0.5</td><td>8457</td></tr><tr><th>3</th><td>0.5</td><td>0.5</td><td>10270</td></tr><tr><th>4</th><td>0.5</td><td>0.5</td><td>7852</td></tr><tr><th>5</th><td>0.5</td><td>0.5</td><td>2020</td></tr><tr><th>6</th><td>0.5</td><td>0.5</td><td>10076</td></tr><tr><th>7</th><td>0.5</td><td>0.5</td><td>9611</td></tr><tr><th>8</th><td>0.5</td><td>0.5</td><td>5700</td></tr><tr><th>9</th><td>0.5</td><td>0.5</td><td>11845</td></tr><tr><th>10</th><td>0.5</td><td>0.5</td><td>4077</td></tr><tr><th>11</th><td>0.5</td><td>0.5</td><td>7188</td></tr><tr><th>12</th><td>0.5</td><td>0.5</td><td>8401</td></tr><tr><th>13</th><td>0.5</td><td>0.5</td><td>2840</td></tr><tr><th>14</th><td>0.5</td><td>0.5</td><td>6220</td></tr><tr><th>15</th><td>0.5</td><td>0.5</td><td>10065</td></tr><tr><th>16</th><td>0.5</td><td>0.5</td><td>4993</td></tr><tr><th>17</th><td>0.5</td><td>0.5</td><td>6459</td></tr><tr><th>18</th><td>0.5</td><td>0.5</td><td>8683</td></tr><tr><th>19</th><td>0.5</td><td>0.5</td><td>3658</td></tr><tr><th>20</th><td>0.5</td><td>0.5</td><td>9264</td></tr><tr><th>21</th><td>0.5</td><td>0.5</td><td>8170</td></tr><tr><th>22</th><td>0.5</td><td>0.5</td><td>10658</td></tr><tr><th>23</th><td>0.5</td><td>0.5</td><td>9050</td></tr><tr><th>24</th><td>0.5</td><td>0.5</td><td>9854</td></tr><tr><th>25</th><td>0.5</td><td>0.5</td><td>3305</td></tr><tr><th>26</th><td>0.5</td><td>0.5</td><td>5500</td></tr><tr><th>27</th><td>0.5</td><td>0.5</td><td>8282</td></tr><tr><th>28</th><td>0.5</td><td>0.5</td><td>8663</td></tr><tr><th>29</th><td>0.5</td><td>0.5</td><td>4617</td></tr><tr><th>30</th><td>0.5</td><td>0.5</td><td>5568</td></tr><tr><th>&vellip;</th><td>&vellip;</td><td>&vellip;</td><td>&vellip;</td></tr></tbody></table></div>"
      ],
      "text/latex": [
       "\\begin{tabular}{r|ccc}\n",
       "\t& 0 & 1 & id\\\\\n",
       "\t\\hline\n",
       "\t& Float64 & Float64 & Int64\\\\\n",
       "\t\\hline\n",
       "\t1 & 0.5 & 0.5 & 9849 \\\\\n",
       "\t2 & 0.5 & 0.5 & 8457 \\\\\n",
       "\t3 & 0.5 & 0.5 & 10270 \\\\\n",
       "\t4 & 0.5 & 0.5 & 7852 \\\\\n",
       "\t5 & 0.5 & 0.5 & 2020 \\\\\n",
       "\t6 & 0.5 & 0.5 & 10076 \\\\\n",
       "\t7 & 0.5 & 0.5 & 9611 \\\\\n",
       "\t8 & 0.5 & 0.5 & 5700 \\\\\n",
       "\t9 & 0.5 & 0.5 & 11845 \\\\\n",
       "\t10 & 0.5 & 0.5 & 4077 \\\\\n",
       "\t11 & 0.5 & 0.5 & 7188 \\\\\n",
       "\t12 & 0.5 & 0.5 & 8401 \\\\\n",
       "\t13 & 0.5 & 0.5 & 2840 \\\\\n",
       "\t14 & 0.5 & 0.5 & 6220 \\\\\n",
       "\t15 & 0.5 & 0.5 & 10065 \\\\\n",
       "\t16 & 0.5 & 0.5 & 4993 \\\\\n",
       "\t17 & 0.5 & 0.5 & 6459 \\\\\n",
       "\t18 & 0.5 & 0.5 & 8683 \\\\\n",
       "\t19 & 0.5 & 0.5 & 3658 \\\\\n",
       "\t20 & 0.5 & 0.5 & 9264 \\\\\n",
       "\t21 & 0.5 & 0.5 & 8170 \\\\\n",
       "\t22 & 0.5 & 0.5 & 10658 \\\\\n",
       "\t23 & 0.5 & 0.5 & 9050 \\\\\n",
       "\t24 & 0.5 & 0.5 & 9854 \\\\\n",
       "\t25 & 0.5 & 0.5 & 3305 \\\\\n",
       "\t26 & 0.5 & 0.5 & 5500 \\\\\n",
       "\t27 & 0.5 & 0.5 & 8282 \\\\\n",
       "\t28 & 0.5 & 0.5 & 8663 \\\\\n",
       "\t29 & 0.5 & 0.5 & 4617 \\\\\n",
       "\t30 & 0.5 & 0.5 & 5568 \\\\\n",
       "\t$\\dots$ & $\\dots$ & $\\dots$ & $\\dots$ \\\\\n",
       "\\end{tabular}\n"
      ],
      "text/plain": [
       "\u001b[1m2537×3 DataFrame\u001b[0m\n",
       "\u001b[1m  Row \u001b[0m│\u001b[1m 0       \u001b[0m\u001b[1m 1       \u001b[0m\u001b[1m id    \u001b[0m\n",
       "\u001b[1m      \u001b[0m│\u001b[90m Float64 \u001b[0m\u001b[90m Float64 \u001b[0m\u001b[90m Int64 \u001b[0m\n",
       "──────┼─────────────────────────\n",
       "    1 │     0.5      0.5   9849\n",
       "    2 │     0.5      0.5   8457\n",
       "    3 │     0.5      0.5  10270\n",
       "    4 │     0.5      0.5   7852\n",
       "    5 │     0.5      0.5   2020\n",
       "    6 │     0.5      0.5  10076\n",
       "    7 │     0.5      0.5   9611\n",
       "    8 │     0.5      0.5   5700\n",
       "    9 │     0.5      0.5  11845\n",
       "   10 │     0.5      0.5   4077\n",
       "   11 │     0.5      0.5   7188\n",
       "  ⋮   │    ⋮        ⋮       ⋮\n",
       " 2528 │     0.5      0.5   6210\n",
       " 2529 │     0.5      0.5  10163\n",
       " 2530 │     0.5      0.5   6664\n",
       " 2531 │     0.5      0.5   9838\n",
       " 2532 │     0.5      0.5   2993\n",
       " 2533 │     0.5      0.5   2620\n",
       " 2534 │     0.5      0.5   6753\n",
       " 2535 │     0.5      0.5   7120\n",
       " 2536 │     0.5      0.5  12333\n",
       " 2537 │     0.5      0.5   9321\n",
       "\u001b[36m               2516 rows omitted\u001b[0m"
      ]
     },
     "execution_count": 43,
     "metadata": {},
     "output_type": "execute_result"
    }
   ],
   "source": [
    "result_df = DataFrame()\n",
    "\n",
    "result_df[!, Symbol(negative_class)] = 1 .- probabilities\n",
    "result_df[!, Symbol(positive_class)] = probabilities\n",
    "result_df[!, id_feature] = ids\n",
    "CSV.write(PREDICTIONS_FILE, result_df)\n",
    "result_df"
   ]
  },
  {
   "cell_type": "code",
   "execution_count": null,
   "metadata": {},
   "outputs": [],
   "source": []
  }
 ],
 "metadata": {
  "kernelspec": {
   "display_name": "Julia 1.9.3",
   "language": "julia",
   "name": "julia-1.9"
  },
  "language_info": {
   "file_extension": ".jl",
   "mimetype": "application/julia",
   "name": "julia",
   "version": "1.9.3"
  }
 },
 "nbformat": 4,
 "nbformat_minor": 4
}
