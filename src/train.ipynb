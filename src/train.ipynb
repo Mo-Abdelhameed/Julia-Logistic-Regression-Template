{
 "cells": [
  {
   "cell_type": "markdown",
   "metadata": {},
   "source": [
    "## Imports"
   ]
  },
  {
   "cell_type": "code",
   "execution_count": 1,
   "metadata": {},
   "outputs": [],
   "source": [
    "#DO NOT CHANGE THESE LINES\n",
    "using Suppressor\n",
    "@suppress begin\n",
    "    using DataFrames\n",
    "    using LazyJSON\n",
    "    using GLM \n",
    "    using MLJ \n",
    "    using MLJBase\n",
    "    using CSV\n",
    "    using Serialization\n",
    "    using MLJScientificTypes\n",
    "    using CategoricalArrays\n",
    "    using JLD2\n",
    "    using StatsBase\n",
    "    using StatsModels\n",
    "end"
   ]
  },
  {
   "cell_type": "markdown",
   "metadata": {},
   "source": [
    "## Paths"
   ]
  },
  {
   "cell_type": "code",
   "execution_count": 2,
   "metadata": {},
   "outputs": [],
   "source": [
    "# DO NOT CHANGE THESE LINES\n",
    "ROOT_DIR = dirname(pwd())\n",
    "MODEL_INPUTS_OUTPUTS = joinpath(ROOT_DIR, \"model_inputs_outputs\")\n",
    "INPUT_DIR = joinpath(MODEL_INPUTS_OUTPUTS, \"inputs\")\n",
    "INPUT_SCHEMA_DIR = joinpath(INPUT_DIR, \"schema\")\n",
    "DATA_DIR = joinpath(INPUT_DIR, \"data\")\n",
    "TRAIN_DIR = joinpath(DATA_DIR, \"training\")\n",
    "TEST_DIR = joinpath(DATA_DIR, \"testing\")\n",
    "MODEL_PATH = joinpath(MODEL_INPUTS_OUTPUTS, \"model\")\n",
    "MODEL_ARTIFACTS_PATH = joinpath(MODEL_PATH, \"artifacts\")\n",
    "OHE_ENCODER_FILE = joinpath(MODEL_ARTIFACTS_PATH, \"ohe.jld2\")\n",
    "PREDICTOR_DIR_PATH = joinpath(MODEL_ARTIFACTS_PATH, \"predictor\")\n",
    "PREDICTOR_FILE_PATH = joinpath(PREDICTOR_DIR_PATH, \"predictor.jld2\")\n",
    "IMPUTATION_FILE = joinpath(MODEL_ARTIFACTS_PATH, \"imputation.ser\")\n",
    "TOP_CATEGORIES = joinpath(MODEL_ARTIFACTS_PATH, \"top_categories.ser\")\n",
    "TARGET_LEVELS = joinpath(MODEL_ARTIFACTS_PATH, \"target_levels.ser\")\n",
    "TARGET_MAPPING = joinpath(MODEL_ARTIFACTS_PATH, \"target_mapping.ser\")\n",
    "\n",
    "if !isdir(MODEL_ARTIFACTS_PATH)\n",
    "    mkdir(MODEL_ARTIFACTS_PATH)\n",
    "end\n",
    "if !isdir(PREDICTOR_DIR_PATH)\n",
    "    mkdir(PREDICTOR_DIR_PATH)\n",
    "end"
   ]
  },
  {
   "cell_type": "markdown",
   "metadata": {},
   "source": [
    "### Reading the schema\n",
    "The schema contains metadata about the datasets. We will use the scehma to get information about the type of each feature (NUMERIC or CATEGORICAL) and the id and target features, this will be helpful in preprocessing stage."
   ]
  },
  {
   "cell_type": "code",
   "execution_count": 3,
   "metadata": {},
   "outputs": [
    {
     "data": {
      "text/plain": [
       "\"1\""
      ]
     },
     "execution_count": 3,
     "metadata": {},
     "output_type": "execute_result"
    }
   ],
   "source": [
    "# Reading a schema from a JSON file and extracting features\n",
    "file_name = first(filter(x -> endswith(x, \"json\"), readdir(INPUT_SCHEMA_DIR)))\n",
    "schema_path = joinpath(INPUT_SCHEMA_DIR, file_name)\n",
    "schema_string = read(schema_path, String)  # Read file content as a string\n",
    "schema = LazyJSON.parse(schema_string)  # Parse using LazyJSON\n",
    "\n",
    "features = schema[\"features\"]\n",
    "\n",
    "# Identifying numeric, categorical, and nullable features\n",
    "numeric_features = String[]\n",
    "categorical_features = String[]\n",
    "nullable_features = String[]\n",
    "\n",
    "for f in features\n",
    "    if f[\"dataType\"] == \"CATEGORICAL\"\n",
    "        push!(categorical_features, f[\"name\"])\n",
    "    else\n",
    "        push!(numeric_features, f[\"name\"])\n",
    "    end\n",
    "    if f[\"nullable\"]\n",
    "        push!(nullable_features, f[\"name\"])\n",
    "    end\n",
    "end\n",
    "\n",
    "# Extracting ID and target features\n",
    "id_feature = schema[\"id\"][\"name\"]\n",
    "target_feature = schema[\"target\"][\"name\"]\n",
    "target_classes = schema[\"target\"][\"classes\"]\n",
    "\n",
    "if length(target_classes) == 2\n",
    "    negative_class = target_classes[1]\n",
    "    positive_class = target_classes[2]\n",
    "end\n"
   ]
  },
  {
   "cell_type": "markdown",
   "metadata": {},
   "source": [
    "### Reading training data"
   ]
  },
  {
   "cell_type": "code",
   "execution_count": 4,
   "metadata": {},
   "outputs": [
    {
     "data": {
      "text/html": [
       "<div class=\"data-frame\"><p>5 rows × 4 columns</p><table class=\"data-frame\"><thead><tr><th></th><th>id</th><th>color</th><th>number</th><th>target</th></tr><tr><th></th><th title=\"String7\">String7</th><th title=\"Union{Missing, String7}\">String7?</th><th title=\"Union{Missing, Float64}\">Float64?</th><th title=\"Int64\">Int64</th></tr></thead><tbody><tr><th>1</th><td>MY5ZPJ</td><td>Green</td><td>48.0</td><td>0</td></tr><tr><th>2</th><td>JEIR9U</td><td>Blue</td><td>39.0</td><td>0</td></tr><tr><th>3</th><td>GD8AFP</td><td>Red</td><td>11.0</td><td>0</td></tr><tr><th>4</th><td>HXTPDP</td><td>Red</td><td>32.0</td><td>0</td></tr><tr><th>5</th><td>2VLDQ4</td><td>Green</td><td>7.0</td><td>0</td></tr></tbody></table></div>"
      ],
      "text/latex": [
       "\\begin{tabular}{r|cccc}\n",
       "\t& id & color & number & target\\\\\n",
       "\t\\hline\n",
       "\t& String7 & String7? & Float64? & Int64\\\\\n",
       "\t\\hline\n",
       "\t1 & MY5ZPJ & Green & 48.0 & 0 \\\\\n",
       "\t2 & JEIR9U & Blue & 39.0 & 0 \\\\\n",
       "\t3 & GD8AFP & Red & 11.0 & 0 \\\\\n",
       "\t4 & HXTPDP & Red & 32.0 & 0 \\\\\n",
       "\t5 & 2VLDQ4 & Green & 7.0 & 0 \\\\\n",
       "\\end{tabular}\n"
      ],
      "text/plain": [
       "\u001b[1m5×4 DataFrame\u001b[0m\n",
       "\u001b[1m Row \u001b[0m│\u001b[1m id      \u001b[0m\u001b[1m color    \u001b[0m\u001b[1m number   \u001b[0m\u001b[1m target \u001b[0m\n",
       "\u001b[1m     \u001b[0m│\u001b[90m String7 \u001b[0m\u001b[90m String7? \u001b[0m\u001b[90m Float64? \u001b[0m\u001b[90m Int64  \u001b[0m\n",
       "─────┼─────────────────────────────────────\n",
       "   1 │ MY5ZPJ   Green         48.0       0\n",
       "   2 │ JEIR9U   Blue          39.0       0\n",
       "   3 │ GD8AFP   Red           11.0       0\n",
       "   4 │ HXTPDP   Red           32.0       0\n",
       "   5 │ 2VLDQ4   Green          7.0       0"
      ]
     },
     "execution_count": 4,
     "metadata": {},
     "output_type": "execute_result"
    }
   ],
   "source": [
    "# Find the first CSV file in the TRAIN_DIR\n",
    "file_name = first(filter(x -> endswith(x, \".csv\"), readdir(TRAIN_DIR)))\n",
    "file_path = joinpath(TRAIN_DIR, file_name)\n",
    "\n",
    "# Read the CSV file into a DataFrame\n",
    "df = CSV.File(file_path) |> DataFrame\n",
    "\n",
    "# Display the first few rows of the DataFrame\n",
    "first(df, 5)\n"
   ]
  },
  {
   "cell_type": "markdown",
   "metadata": {},
   "source": [
    "## Data Preprocessing\n",
    "Data preprocessing is very important before training the model, as the data may contain missing values in some cells. Moreover, most of the learning algorithms cannot work with categorical data, thus the data has to be encoded.\n",
    "\n",
    "In this section we will impute the missing values and encode the categorical features. Afterwards the data will be ready to train the model."
   ]
  },
  {
   "cell_type": "markdown",
   "metadata": {},
   "source": [
    "##### Imputing missing data\n",
    "> The median value will be used to impute missing values of the numeric features and the mode will be used to impute categorical features.\n",
    "\n",
    "##### You can add your own preprocessing steps such as:\n",
    "<ul>\n",
    "<li>Normalization</li> <br>\n",
    "<li>Outlier removal</li><br>\n",
    "<li>Dropping or adding features</li><br>\n",
    "</ul>\n",
    "\n",
    "### Important note:\n",
    "<p> \n",
    "Saving the values used for imputation during training step is crucial. These values will be used to impute missing data in the testing set. This is very important to avoid the well known problem of data leakage. During testing, you should not make any assumptions about the data in hand, alternatively anything needed during the testing phase should be learned from the training phase. This is why we are creating a dictionary of values used during training to reuse these values during testing.\n",
    "</p>\n"
   ]
  },
  {
   "cell_type": "code",
   "execution_count": 5,
   "metadata": {},
   "outputs": [],
   "source": [
    "# Imputing missing data\n",
    "imputation_values = Dict{String, Any}()\n",
    "\n",
    "for column in nullable_features\n",
    "    if column in numeric_features\n",
    "        value = median(skipmissing(df[!, column]))\n",
    "    else\n",
    "        value = mode(skipmissing(df[!, column]))\n",
    "    end\n",
    "    df[!, column] = coalesce.(df[!, column], value)\n",
    "    imputation_values[column] = value\n",
    "end\n",
    "\n",
    "# Serialize the imputation_values dictionary to a binary file\n",
    "open(IMPUTATION_FILE, \"w\") do io\n",
    "    serialize(io, imputation_values)\n",
    "end\n"
   ]
  },
  {
   "cell_type": "code",
   "execution_count": 6,
   "metadata": {},
   "outputs": [
    {
     "data": {
      "text/html": [
       "<div class=\"data-frame\"><p>160 rows × 2 columns</p><table class=\"data-frame\"><thead><tr><th></th><th>color</th><th>number</th></tr><tr><th></th><th title=\"String7\">String7</th><th title=\"Float64\">Float64</th></tr></thead><tbody><tr><th>1</th><td>Green</td><td>48.0</td></tr><tr><th>2</th><td>Blue</td><td>39.0</td></tr><tr><th>3</th><td>Red</td><td>11.0</td></tr><tr><th>4</th><td>Red</td><td>32.0</td></tr><tr><th>5</th><td>Green</td><td>7.0</td></tr><tr><th>6</th><td>Green</td><td>47.0</td></tr><tr><th>7</th><td>Blue</td><td>75.0</td></tr><tr><th>8</th><td>Green</td><td>19.0</td></tr><tr><th>9</th><td>Green</td><td>64.0</td></tr><tr><th>10</th><td>Blue</td><td>19.0</td></tr><tr><th>11</th><td>Red</td><td>33.0</td></tr><tr><th>12</th><td>Green</td><td>87.0</td></tr><tr><th>13</th><td>Red</td><td>39.0</td></tr><tr><th>14</th><td>Blue</td><td>48.0</td></tr><tr><th>15</th><td>Blue</td><td>14.0</td></tr><tr><th>16</th><td>Green</td><td>7.0</td></tr><tr><th>17</th><td>Blue</td><td>30.0</td></tr><tr><th>18</th><td>Red</td><td>38.0</td></tr><tr><th>19</th><td>Blue</td><td>32.0</td></tr><tr><th>20</th><td>Red</td><td>72.0</td></tr><tr><th>21</th><td>Green</td><td>47.0</td></tr><tr><th>22</th><td>Blue</td><td>47.0</td></tr><tr><th>23</th><td>Blue</td><td>17.0</td></tr><tr><th>24</th><td>Red</td><td>2.0</td></tr><tr><th>25</th><td>Green</td><td>98.0</td></tr><tr><th>26</th><td>Green</td><td>48.0</td></tr><tr><th>27</th><td>Blue</td><td>47.0</td></tr><tr><th>28</th><td>Blue</td><td>27.0</td></tr><tr><th>29</th><td>Red</td><td>20.0</td></tr><tr><th>30</th><td>Green</td><td>27.0</td></tr><tr><th>&vellip;</th><td>&vellip;</td><td>&vellip;</td></tr></tbody></table></div>"
      ],
      "text/latex": [
       "\\begin{tabular}{r|cc}\n",
       "\t& color & number\\\\\n",
       "\t\\hline\n",
       "\t& String7 & Float64\\\\\n",
       "\t\\hline\n",
       "\t1 & Green & 48.0 \\\\\n",
       "\t2 & Blue & 39.0 \\\\\n",
       "\t3 & Red & 11.0 \\\\\n",
       "\t4 & Red & 32.0 \\\\\n",
       "\t5 & Green & 7.0 \\\\\n",
       "\t6 & Green & 47.0 \\\\\n",
       "\t7 & Blue & 75.0 \\\\\n",
       "\t8 & Green & 19.0 \\\\\n",
       "\t9 & Green & 64.0 \\\\\n",
       "\t10 & Blue & 19.0 \\\\\n",
       "\t11 & Red & 33.0 \\\\\n",
       "\t12 & Green & 87.0 \\\\\n",
       "\t13 & Red & 39.0 \\\\\n",
       "\t14 & Blue & 48.0 \\\\\n",
       "\t15 & Blue & 14.0 \\\\\n",
       "\t16 & Green & 7.0 \\\\\n",
       "\t17 & Blue & 30.0 \\\\\n",
       "\t18 & Red & 38.0 \\\\\n",
       "\t19 & Blue & 32.0 \\\\\n",
       "\t20 & Red & 72.0 \\\\\n",
       "\t21 & Green & 47.0 \\\\\n",
       "\t22 & Blue & 47.0 \\\\\n",
       "\t23 & Blue & 17.0 \\\\\n",
       "\t24 & Red & 2.0 \\\\\n",
       "\t25 & Green & 98.0 \\\\\n",
       "\t26 & Green & 48.0 \\\\\n",
       "\t27 & Blue & 47.0 \\\\\n",
       "\t28 & Blue & 27.0 \\\\\n",
       "\t29 & Red & 20.0 \\\\\n",
       "\t30 & Green & 27.0 \\\\\n",
       "\t$\\dots$ & $\\dots$ & $\\dots$ \\\\\n",
       "\\end{tabular}\n"
      ],
      "text/plain": [
       "\u001b[1m160×2 DataFrame\u001b[0m\n",
       "\u001b[1m Row \u001b[0m│\u001b[1m color   \u001b[0m\u001b[1m number  \u001b[0m\n",
       "\u001b[1m     \u001b[0m│\u001b[90m String7 \u001b[0m\u001b[90m Float64 \u001b[0m\n",
       "─────┼──────────────────\n",
       "   1 │ Green       48.0\n",
       "   2 │ Blue        39.0\n",
       "   3 │ Red         11.0\n",
       "   4 │ Red         32.0\n",
       "   5 │ Green        7.0\n",
       "   6 │ Green       47.0\n",
       "   7 │ Blue        75.0\n",
       "   8 │ Green       19.0\n",
       "   9 │ Green       64.0\n",
       "  10 │ Blue        19.0\n",
       "  11 │ Red         33.0\n",
       "  ⋮  │    ⋮        ⋮\n",
       " 151 │ Blue         8.0\n",
       " 152 │ Red         42.0\n",
       " 153 │ Red          2.0\n",
       " 154 │ Blue        66.0\n",
       " 155 │ Green       42.0\n",
       " 156 │ Red         47.0\n",
       " 157 │ Green       54.0\n",
       " 158 │ Red         47.0\n",
       " 159 │ Red         54.0\n",
       " 160 │ Blue        99.0\n",
       "\u001b[36m        139 rows omitted\u001b[0m"
      ]
     },
     "execution_count": 6,
     "metadata": {},
     "output_type": "execute_result"
    }
   ],
   "source": [
    "# Saving the id and target columns in a different variable\n",
    "ids = df[!, Symbol(id_feature)]\n",
    "target = df[!, Symbol(target_feature)]\n",
    "\n",
    "# Dropping the id and target from the DataFrame\n",
    "select!(df, Not([Symbol(id_feature), Symbol(target_feature)]))"
   ]
  },
  {
   "cell_type": "markdown",
   "metadata": {},
   "source": [
    "##### Encoding Categorical features\n",
    "<p>\n",
    "The id column is just an identifier for the training example, so we will exclude it during the encoding phase.<br>\n",
    "Target feature will be label encoded in the next step.\n",
    "</p>\n"
   ]
  },
  {
   "cell_type": "code",
   "execution_count": 7,
   "metadata": {},
   "outputs": [],
   "source": [
    "# Function to get top 10 categories\n",
    "function get_top_categories(df, features, n=10)\n",
    "    top_cats = Dict()\n",
    "    for feature in features\n",
    "        col_data = df[!, feature]\n",
    "        category_counts = countmap(col_data)\n",
    "        sorted_categories = sort(collect(category_counts), by=x->x[2], rev=true)\n",
    "        \n",
    "        # Take minimum between n and the number of unique categories\n",
    "        num_categories = min(n, length(sorted_categories))\n",
    "        \n",
    "        top_cats[feature] = [x[1] for x in sorted_categories[1:num_categories]]\n",
    "    end\n",
    "    return top_cats\n",
    "end\n",
    "\n",
    "# Get top10 categories for specific features\n",
    "top_categories = get_top_categories(df, categorical_features)\n",
    "\n",
    "# Function to one-hot encode only the top 10 categories\n",
    "function one_hot_top_categories!(df, top_categories)\n",
    "    for (feature, top_cats) in top_categories\n",
    "        if length(top_cats) == 2  # Handle the binary case\n",
    "            # Assuming the first category in top_cats is treated as 'true'\n",
    "            new_col_name = \"$(feature)_binary\"\n",
    "            df[!, new_col_name] = df[!, feature] .== top_cats[1]\n",
    "        else  # Handle the general case\n",
    "            for cat in top_cats\n",
    "                new_col_name = \"$(feature)_$(cat)\"\n",
    "                df[!, new_col_name] = df[!, feature] .== cat\n",
    "            end\n",
    "        end\n",
    "        select!(df, Not(Symbol(feature)))  # Drop the original feature column\n",
    "    end\n",
    "end\n",
    "\n",
    "# Apply one-hot encoding\n",
    "one_hot_top_categories!(df, top_categories)\n",
    "\n",
    "# Serialize the imputation_values dictionary to a binary file\n",
    "open(TOP_CATEGORIES, \"w\") do io\n",
    "    serialize(io, top_categories)\n",
    "end\n"
   ]
  },
  {
   "cell_type": "markdown",
   "metadata": {},
   "source": [
    "### Encoding target feature"
   ]
  },
  {
   "cell_type": "code",
   "execution_count": 8,
   "metadata": {},
   "outputs": [
    {
     "data": {
      "text/plain": [
       "16"
      ]
     },
     "execution_count": 8,
     "metadata": {},
     "output_type": "execute_result"
    }
   ],
   "source": [
    "encoded_target = ifelse.(target .== positive_class, 2, 1)\n",
    "mapping = Dict(1 => negative_class, 2 => positive_class)\n",
    "\n",
    "open(TARGET_MAPPING, \"w\") do io\n",
    "    serialize(io, mapping)\n",
    "end\n",
    "\n",
    "open(TARGET_LEVELS, \"w\") do io\n",
    "    serialize(io, levels(target))\n",
    "end"
   ]
  },
  {
   "cell_type": "markdown",
   "metadata": {},
   "source": [
    "### Training the Classifier\n",
    "We choose Logistic Regression model, but feel free to try your own and compare the results."
   ]
  },
  {
   "cell_type": "code",
   "execution_count": 9,
   "metadata": {},
   "outputs": [],
   "source": [
    "predictor_columns = names(df)\n",
    "X = Matrix(df[!, predictor_columns])\n",
    "model = glm(X, target, Bernoulli(), LogitLink())\n",
    "\n",
    "# Save the model\n",
    "open(PREDICTOR_FILE_PATH, \"w\") do io\n",
    "    serialize(io, model)\n",
    "end\n"
   ]
  }
 ],
 "metadata": {
  "kernelspec": {
   "display_name": "Julia 1.9.3",
   "language": "julia",
   "name": "julia-1.9"
  },
  "language_info": {
   "file_extension": ".jl",
   "mimetype": "application/julia",
   "name": "julia",
   "version": "1.9.3"
  }
 },
 "nbformat": 4,
 "nbformat_minor": 4
}
