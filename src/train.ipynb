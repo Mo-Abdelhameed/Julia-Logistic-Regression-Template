{
 "cells": [
  {
   "cell_type": "markdown",
   "metadata": {},
   "source": [
    "## Imports"
   ]
  },
  {
   "cell_type": "code",
   "execution_count": 58,
   "metadata": {},
   "outputs": [],
   "source": [
    "#DO NOT CHANGE THESE LINES\n",
    "using Suppressor\n",
    "@suppress begin\n",
    "    using DataFrames\n",
    "    using LazyJSON\n",
    "    using GLM \n",
    "    using MLJ \n",
    "    using MLJBase\n",
    "    using CSV\n",
    "    using Serialization\n",
    "    using MLJScientificTypes\n",
    "    using CategoricalArrays\n",
    "    using JLD2\n",
    "    using StatsBase\n",
    "    using StatsModels\n",
    "end"
   ]
  },
  {
   "cell_type": "markdown",
   "metadata": {},
   "source": [
    "## Paths"
   ]
  },
  {
   "cell_type": "code",
   "execution_count": 59,
   "metadata": {},
   "outputs": [],
   "source": [
    "# DO NOT CHANGE THESE LINES\n",
    "ROOT_DIR = dirname(pwd())\n",
    "MODEL_INPUTS_OUTPUTS = joinpath(ROOT_DIR, \"model_inputs_outputs\")\n",
    "INPUT_DIR = joinpath(MODEL_INPUTS_OUTPUTS, \"inputs\")\n",
    "INPUT_SCHEMA_DIR = joinpath(INPUT_DIR, \"schema\")\n",
    "DATA_DIR = joinpath(INPUT_DIR, \"data\")\n",
    "TRAIN_DIR = joinpath(DATA_DIR, \"training\")\n",
    "TEST_DIR = joinpath(DATA_DIR, \"testing\")\n",
    "MODEL_PATH = joinpath(MODEL_INPUTS_OUTPUTS, \"model\")\n",
    "MODEL_ARTIFACTS_PATH = joinpath(MODEL_PATH, \"artifacts\")\n",
    "OHE_ENCODER_FILE = joinpath(MODEL_ARTIFACTS_PATH, \"ohe.jld2\")\n",
    "PREDICTOR_DIR_PATH = joinpath(MODEL_ARTIFACTS_PATH, \"predictor\")\n",
    "PREDICTOR_FILE_PATH = joinpath(PREDICTOR_DIR_PATH, \"predictor.jld2\")\n",
    "IMPUTATION_FILE = joinpath(MODEL_ARTIFACTS_PATH, \"imputation.ser\")\n",
    "TOP_CATEGORIES = joinpath(MODEL_ARTIFACTS_PATH, \"top_categories.ser\")\n",
    "TARGET_LEVELS = joinpath(MODEL_ARTIFACTS_PATH, \"target_levels.ser\")\n",
    "TARGET_MAPPING = joinpath(MODEL_ARTIFACTS_PATH, \"target_mapping.ser\")\n",
    "\n",
    "if !isdir(MODEL_ARTIFACTS_PATH)\n",
    "    mkdir(MODEL_ARTIFACTS_PATH)\n",
    "end\n",
    "if !isdir(PREDICTOR_DIR_PATH)\n",
    "    mkdir(PREDICTOR_DIR_PATH)\n",
    "end"
   ]
  },
  {
   "cell_type": "markdown",
   "metadata": {},
   "source": [
    "### Reading the schema\n",
    "The schema contains metadata about the datasets. We will use the scehma to get information about the type of each feature (NUMERIC or CATEGORICAL) and the id and target features, this will be helpful in preprocessing stage."
   ]
  },
  {
   "cell_type": "code",
   "execution_count": 60,
   "metadata": {},
   "outputs": [
    {
     "data": {
      "text/plain": [
       "\"1\""
      ]
     },
     "execution_count": 60,
     "metadata": {},
     "output_type": "execute_result"
    }
   ],
   "source": [
    "# Reading a schema from a JSON file and extracting features\n",
    "file_name = first(filter(x -> endswith(x, \"json\"), readdir(INPUT_SCHEMA_DIR)))\n",
    "schema_path = joinpath(INPUT_SCHEMA_DIR, file_name)\n",
    "schema_string = read(schema_path, String)  # Read file content as a string\n",
    "schema = LazyJSON.parse(schema_string)  # Parse using LazyJSON\n",
    "\n",
    "features = schema[\"features\"]\n",
    "\n",
    "# Identifying numeric, categorical, and nullable features\n",
    "numeric_features = String[]\n",
    "categorical_features = String[]\n",
    "nullable_features = String[]\n",
    "\n",
    "for f in features\n",
    "    if f[\"dataType\"] == \"CATEGORICAL\"\n",
    "        push!(categorical_features, f[\"name\"])\n",
    "    else\n",
    "        push!(numeric_features, f[\"name\"])\n",
    "    end\n",
    "    if f[\"nullable\"]\n",
    "        push!(nullable_features, f[\"name\"])\n",
    "    end\n",
    "end\n",
    "\n",
    "# Extracting ID and target features\n",
    "id_feature = schema[\"id\"][\"name\"]\n",
    "target_feature = schema[\"target\"][\"name\"]\n",
    "target_classes = schema[\"target\"][\"classes\"]\n",
    "\n",
    "if length(target_classes) == 2\n",
    "    negative_class = target_classes[1]\n",
    "    positive_class = target_classes[2]\n",
    "end\n"
   ]
  },
  {
   "cell_type": "markdown",
   "metadata": {},
   "source": [
    "### Reading training data"
   ]
  },
  {
   "cell_type": "code",
   "execution_count": 61,
   "metadata": {},
   "outputs": [
    {
     "data": {
      "text/html": [
       "<div class=\"data-frame\"><p>5 rows × 27 columns (omitted printing of 20 columns)</p><table class=\"data-frame\"><thead><tr><th></th><th>id</th><th>destination</th><th>passenger</th><th>weather</th><th>temperature</th><th>time</th><th>coupon</th></tr><tr><th></th><th title=\"Int64\">Int64</th><th title=\"String15\">String15</th><th title=\"String15\">String15</th><th title=\"String7\">String7</th><th title=\"Int64\">Int64</th><th title=\"String7\">String7</th><th title=\"String31\">String31</th></tr></thead><tbody><tr><th>1</th><td>10760</td><td>No Urgent Place</td><td>Partner</td><td>Sunny</td><td>55</td><td>2PM</td><td>Bar</td></tr><tr><th>2</th><td>12114</td><td>No Urgent Place</td><td>Alone</td><td>Sunny</td><td>80</td><td>10AM</td><td>Restaurant(&lt;20)</td></tr><tr><th>3</th><td>4412</td><td>No Urgent Place</td><td>Alone</td><td>Sunny</td><td>80</td><td>10AM</td><td>Bar</td></tr><tr><th>4</th><td>10869</td><td>Home</td><td>Alone</td><td>Snowy</td><td>30</td><td>10PM</td><td>Coffee House</td></tr><tr><th>5</th><td>4808</td><td>No Urgent Place</td><td>Alone</td><td>Sunny</td><td>80</td><td>10AM</td><td>Bar</td></tr></tbody></table></div>"
      ],
      "text/latex": [
       "\\begin{tabular}{r|cccccccc}\n",
       "\t& id & destination & passenger & weather & temperature & time & coupon & \\\\\n",
       "\t\\hline\n",
       "\t& Int64 & String15 & String15 & String7 & Int64 & String7 & String31 & \\\\\n",
       "\t\\hline\n",
       "\t1 & 10760 & No Urgent Place & Partner & Sunny & 55 & 2PM & Bar & $\\dots$ \\\\\n",
       "\t2 & 12114 & No Urgent Place & Alone & Sunny & 80 & 10AM & Restaurant(<20) & $\\dots$ \\\\\n",
       "\t3 & 4412 & No Urgent Place & Alone & Sunny & 80 & 10AM & Bar & $\\dots$ \\\\\n",
       "\t4 & 10869 & Home & Alone & Snowy & 30 & 10PM & Coffee House & $\\dots$ \\\\\n",
       "\t5 & 4808 & No Urgent Place & Alone & Sunny & 80 & 10AM & Bar & $\\dots$ \\\\\n",
       "\\end{tabular}\n"
      ],
      "text/plain": [
       "\u001b[1m5×27 DataFrame\u001b[0m\n",
       "\u001b[1m Row \u001b[0m│\u001b[1m id    \u001b[0m\u001b[1m destination     \u001b[0m\u001b[1m passenger \u001b[0m\u001b[1m weather \u001b[0m\u001b[1m temperature \u001b[0m\u001b[1m time    \u001b[0m\u001b[1m coupo\u001b[0m ⋯\n",
       "\u001b[1m     \u001b[0m│\u001b[90m Int64 \u001b[0m\u001b[90m String15        \u001b[0m\u001b[90m String15  \u001b[0m\u001b[90m String7 \u001b[0m\u001b[90m Int64       \u001b[0m\u001b[90m String7 \u001b[0m\u001b[90m Strin\u001b[0m ⋯\n",
       "─────┼──────────────────────────────────────────────────────────────────────────\n",
       "   1 │ 10760  No Urgent Place  Partner    Sunny             55  2PM      Bar   ⋯\n",
       "   2 │ 12114  No Urgent Place  Alone      Sunny             80  10AM     Resta\n",
       "   3 │  4412  No Urgent Place  Alone      Sunny             80  10AM     Bar\n",
       "   4 │ 10869  Home             Alone      Snowy             30  10PM     Coffe\n",
       "   5 │  4808  No Urgent Place  Alone      Sunny             80  10AM     Bar   ⋯\n",
       "\u001b[36m                                                              21 columns omitted\u001b[0m"
      ]
     },
     "execution_count": 61,
     "metadata": {},
     "output_type": "execute_result"
    }
   ],
   "source": [
    "# Find the first CSV file in the TRAIN_DIR\n",
    "file_name = first(filter(x -> endswith(x, \".csv\"), readdir(TRAIN_DIR)))\n",
    "file_path = joinpath(TRAIN_DIR, file_name)\n",
    "\n",
    "# Read the CSV file into a DataFrame\n",
    "df = CSV.File(file_path) |> DataFrame\n",
    "\n",
    "# Display the first few rows of the DataFrame\n",
    "first(df, 5)\n"
   ]
  },
  {
   "cell_type": "markdown",
   "metadata": {},
   "source": [
    "## Data Preprocessing\n",
    "Data preprocessing is very important before training the model, as the data may contain missing values in some cells. Moreover, most of the learning algorithms cannot work with categorical data, thus the data has to be encoded.\n",
    "\n",
    "In this section we will impute the missing values and encode the categorical features. Afterwards the data will be ready to train the model."
   ]
  },
  {
   "cell_type": "markdown",
   "metadata": {},
   "source": [
    "##### Imputing missing data\n",
    "> The median value will be used to impute missing values of the numeric features and the mode will be used to impute categorical features.\n",
    "\n",
    "##### You can add your own preprocessing steps such as:\n",
    "<ul>\n",
    "<li>Normalization</li> <br>\n",
    "<li>Outlier removal</li><br>\n",
    "<li>Dropping or adding features</li><br>\n",
    "</ul>\n",
    "\n",
    "### Important note:\n",
    "<p> \n",
    "Saving the values used for imputation during training step is crucial. These values will be used to impute missing data in the testing set. This is very important to avoid the well known problem of data leakage. During testing, you should not make any assumptions about the data in hand, alternatively anything needed during the testing phase should be learned from the training phase. This is why we are creating a dictionary of values used during training to reuse these values during testing.\n",
    "</p>\n"
   ]
  },
  {
   "cell_type": "code",
   "execution_count": 62,
   "metadata": {},
   "outputs": [],
   "source": [
    "# Imputing missing data\n",
    "imputation_values = Dict{String, Any}()\n",
    "\n",
    "for column in nullable_features\n",
    "    if column in numeric_features\n",
    "        value = median(skipmissing(df[!, column]))\n",
    "    else\n",
    "        value = mode(skipmissing(df[!, column]))\n",
    "    end\n",
    "    df[!, column] = coalesce.(df[!, column], value)\n",
    "    imputation_values[column] = value\n",
    "end\n",
    "\n",
    "# Serialize the imputation_values dictionary to a binary file\n",
    "open(IMPUTATION_FILE, \"w\") do io\n",
    "    serialize(io, imputation_values)\n",
    "end\n"
   ]
  },
  {
   "cell_type": "code",
   "execution_count": 63,
   "metadata": {},
   "outputs": [
    {
     "data": {
      "text/html": [
       "<div class=\"data-frame\"><p>10,147 rows × 25 columns (omitted printing of 19 columns)</p><table class=\"data-frame\"><thead><tr><th></th><th>destination</th><th>passenger</th><th>weather</th><th>temperature</th><th>time</th><th>coupon</th></tr><tr><th></th><th title=\"String15\">String15</th><th title=\"String15\">String15</th><th title=\"String7\">String7</th><th title=\"Int64\">Int64</th><th title=\"String7\">String7</th><th title=\"String31\">String31</th></tr></thead><tbody><tr><th>1</th><td>No Urgent Place</td><td>Partner</td><td>Sunny</td><td>55</td><td>2PM</td><td>Bar</td></tr><tr><th>2</th><td>No Urgent Place</td><td>Alone</td><td>Sunny</td><td>80</td><td>10AM</td><td>Restaurant(&lt;20)</td></tr><tr><th>3</th><td>No Urgent Place</td><td>Alone</td><td>Sunny</td><td>80</td><td>10AM</td><td>Bar</td></tr><tr><th>4</th><td>Home</td><td>Alone</td><td>Snowy</td><td>30</td><td>10PM</td><td>Coffee House</td></tr><tr><th>5</th><td>No Urgent Place</td><td>Alone</td><td>Sunny</td><td>80</td><td>10AM</td><td>Bar</td></tr><tr><th>6</th><td>Work</td><td>Alone</td><td>Rainy</td><td>55</td><td>7AM</td><td>Carry out &amp; Take away</td></tr><tr><th>7</th><td>Work</td><td>Alone</td><td>Sunny</td><td>55</td><td>7AM</td><td>Restaurant(&lt;20)</td></tr><tr><th>8</th><td>No Urgent Place</td><td>Friend(s)</td><td>Sunny</td><td>80</td><td>6PM</td><td>Restaurant(&lt;20)</td></tr><tr><th>9</th><td>No Urgent Place</td><td>Friend(s)</td><td>Snowy</td><td>30</td><td>10AM</td><td>Carry out &amp; Take away</td></tr><tr><th>10</th><td>Work</td><td>Alone</td><td>Sunny</td><td>55</td><td>7AM</td><td>Coffee House</td></tr><tr><th>11</th><td>No Urgent Place</td><td>Partner</td><td>Sunny</td><td>80</td><td>6PM</td><td>Restaurant(&lt;20)</td></tr><tr><th>12</th><td>No Urgent Place</td><td>Partner</td><td>Sunny</td><td>30</td><td>10AM</td><td>Bar</td></tr><tr><th>13</th><td>Home</td><td>Alone</td><td>Sunny</td><td>55</td><td>6PM</td><td>Restaurant(20-50)</td></tr><tr><th>14</th><td>Home</td><td>Alone</td><td>Sunny</td><td>55</td><td>6PM</td><td>Restaurant(20-50)</td></tr><tr><th>15</th><td>Home</td><td>Alone</td><td>Sunny</td><td>80</td><td>10PM</td><td>Carry out &amp; Take away</td></tr><tr><th>16</th><td>Home</td><td>Alone</td><td>Sunny</td><td>80</td><td>6PM</td><td>Carry out &amp; Take away</td></tr><tr><th>17</th><td>Home</td><td>Alone</td><td>Sunny</td><td>55</td><td>6PM</td><td>Restaurant(20-50)</td></tr><tr><th>18</th><td>No Urgent Place</td><td>Kid(s)</td><td>Sunny</td><td>80</td><td>10AM</td><td>Bar</td></tr><tr><th>19</th><td>Work</td><td>Alone</td><td>Sunny</td><td>55</td><td>7AM</td><td>Coffee House</td></tr><tr><th>20</th><td>Work</td><td>Alone</td><td>Sunny</td><td>55</td><td>7AM</td><td>Coffee House</td></tr><tr><th>21</th><td>No Urgent Place</td><td>Friend(s)</td><td>Sunny</td><td>80</td><td>2PM</td><td>Coffee House</td></tr><tr><th>22</th><td>No Urgent Place</td><td>Friend(s)</td><td>Sunny</td><td>55</td><td>6PM</td><td>Carry out &amp; Take away</td></tr><tr><th>23</th><td>Home</td><td>Alone</td><td>Snowy</td><td>30</td><td>10PM</td><td>Coffee House</td></tr><tr><th>24</th><td>Work</td><td>Alone</td><td>Sunny</td><td>55</td><td>7AM</td><td>Coffee House</td></tr><tr><th>25</th><td>No Urgent Place</td><td>Kid(s)</td><td>Sunny</td><td>80</td><td>10PM</td><td>Restaurant(20-50)</td></tr><tr><th>26</th><td>No Urgent Place</td><td>Friend(s)</td><td>Sunny</td><td>30</td><td>10AM</td><td>Carry out &amp; Take away</td></tr><tr><th>27</th><td>No Urgent Place</td><td>Partner</td><td>Sunny</td><td>80</td><td>10AM</td><td>Restaurant(20-50)</td></tr><tr><th>28</th><td>Work</td><td>Alone</td><td>Sunny</td><td>55</td><td>7AM</td><td>Coffee House</td></tr><tr><th>29</th><td>Home</td><td>Alone</td><td>Snowy</td><td>30</td><td>10PM</td><td>Restaurant(&lt;20)</td></tr><tr><th>30</th><td>Home</td><td>Alone</td><td>Sunny</td><td>80</td><td>6PM</td><td>Carry out &amp; Take away</td></tr><tr><th>&vellip;</th><td>&vellip;</td><td>&vellip;</td><td>&vellip;</td><td>&vellip;</td><td>&vellip;</td><td>&vellip;</td></tr></tbody></table></div>"
      ],
      "text/latex": [
       "\\begin{tabular}{r|ccccccc}\n",
       "\t& destination & passenger & weather & temperature & time & coupon & \\\\\n",
       "\t\\hline\n",
       "\t& String15 & String15 & String7 & Int64 & String7 & String31 & \\\\\n",
       "\t\\hline\n",
       "\t1 & No Urgent Place & Partner & Sunny & 55 & 2PM & Bar & $\\dots$ \\\\\n",
       "\t2 & No Urgent Place & Alone & Sunny & 80 & 10AM & Restaurant(<20) & $\\dots$ \\\\\n",
       "\t3 & No Urgent Place & Alone & Sunny & 80 & 10AM & Bar & $\\dots$ \\\\\n",
       "\t4 & Home & Alone & Snowy & 30 & 10PM & Coffee House & $\\dots$ \\\\\n",
       "\t5 & No Urgent Place & Alone & Sunny & 80 & 10AM & Bar & $\\dots$ \\\\\n",
       "\t6 & Work & Alone & Rainy & 55 & 7AM & Carry out \\& Take away & $\\dots$ \\\\\n",
       "\t7 & Work & Alone & Sunny & 55 & 7AM & Restaurant(<20) & $\\dots$ \\\\\n",
       "\t8 & No Urgent Place & Friend(s) & Sunny & 80 & 6PM & Restaurant(<20) & $\\dots$ \\\\\n",
       "\t9 & No Urgent Place & Friend(s) & Snowy & 30 & 10AM & Carry out \\& Take away & $\\dots$ \\\\\n",
       "\t10 & Work & Alone & Sunny & 55 & 7AM & Coffee House & $\\dots$ \\\\\n",
       "\t11 & No Urgent Place & Partner & Sunny & 80 & 6PM & Restaurant(<20) & $\\dots$ \\\\\n",
       "\t12 & No Urgent Place & Partner & Sunny & 30 & 10AM & Bar & $\\dots$ \\\\\n",
       "\t13 & Home & Alone & Sunny & 55 & 6PM & Restaurant(20-50) & $\\dots$ \\\\\n",
       "\t14 & Home & Alone & Sunny & 55 & 6PM & Restaurant(20-50) & $\\dots$ \\\\\n",
       "\t15 & Home & Alone & Sunny & 80 & 10PM & Carry out \\& Take away & $\\dots$ \\\\\n",
       "\t16 & Home & Alone & Sunny & 80 & 6PM & Carry out \\& Take away & $\\dots$ \\\\\n",
       "\t17 & Home & Alone & Sunny & 55 & 6PM & Restaurant(20-50) & $\\dots$ \\\\\n",
       "\t18 & No Urgent Place & Kid(s) & Sunny & 80 & 10AM & Bar & $\\dots$ \\\\\n",
       "\t19 & Work & Alone & Sunny & 55 & 7AM & Coffee House & $\\dots$ \\\\\n",
       "\t20 & Work & Alone & Sunny & 55 & 7AM & Coffee House & $\\dots$ \\\\\n",
       "\t21 & No Urgent Place & Friend(s) & Sunny & 80 & 2PM & Coffee House & $\\dots$ \\\\\n",
       "\t22 & No Urgent Place & Friend(s) & Sunny & 55 & 6PM & Carry out \\& Take away & $\\dots$ \\\\\n",
       "\t23 & Home & Alone & Snowy & 30 & 10PM & Coffee House & $\\dots$ \\\\\n",
       "\t24 & Work & Alone & Sunny & 55 & 7AM & Coffee House & $\\dots$ \\\\\n",
       "\t25 & No Urgent Place & Kid(s) & Sunny & 80 & 10PM & Restaurant(20-50) & $\\dots$ \\\\\n",
       "\t26 & No Urgent Place & Friend(s) & Sunny & 30 & 10AM & Carry out \\& Take away & $\\dots$ \\\\\n",
       "\t27 & No Urgent Place & Partner & Sunny & 80 & 10AM & Restaurant(20-50) & $\\dots$ \\\\\n",
       "\t28 & Work & Alone & Sunny & 55 & 7AM & Coffee House & $\\dots$ \\\\\n",
       "\t29 & Home & Alone & Snowy & 30 & 10PM & Restaurant(<20) & $\\dots$ \\\\\n",
       "\t30 & Home & Alone & Sunny & 80 & 6PM & Carry out \\& Take away & $\\dots$ \\\\\n",
       "\t$\\dots$ & $\\dots$ & $\\dots$ & $\\dots$ & $\\dots$ & $\\dots$ & $\\dots$ &  \\\\\n",
       "\\end{tabular}\n"
      ],
      "text/plain": [
       "\u001b[1m10147×25 DataFrame\u001b[0m\n",
       "\u001b[1m   Row \u001b[0m│\u001b[1m destination     \u001b[0m\u001b[1m passenger \u001b[0m\u001b[1m weather \u001b[0m\u001b[1m temperature \u001b[0m\u001b[1m time    \u001b[0m\u001b[1m coupon    \u001b[0m ⋯\n",
       "\u001b[1m       \u001b[0m│\u001b[90m String15        \u001b[0m\u001b[90m String15  \u001b[0m\u001b[90m String7 \u001b[0m\u001b[90m Int64       \u001b[0m\u001b[90m String7 \u001b[0m\u001b[90m String31  \u001b[0m ⋯\n",
       "───────┼────────────────────────────────────────────────────────────────────────\n",
       "     1 │ No Urgent Place  Partner    Sunny             55  2PM      Bar        ⋯\n",
       "     2 │ No Urgent Place  Alone      Sunny             80  10AM     Restaurant\n",
       "     3 │ No Urgent Place  Alone      Sunny             80  10AM     Bar\n",
       "     4 │ Home             Alone      Snowy             30  10PM     Coffee Hou\n",
       "     5 │ No Urgent Place  Alone      Sunny             80  10AM     Bar        ⋯\n",
       "     6 │ Work             Alone      Rainy             55  7AM      Carry out\n",
       "     7 │ Work             Alone      Sunny             55  7AM      Restaurant\n",
       "     8 │ No Urgent Place  Friend(s)  Sunny             80  6PM      Restaurant\n",
       "     9 │ No Urgent Place  Friend(s)  Snowy             30  10AM     Carry out  ⋯\n",
       "    10 │ Work             Alone      Sunny             55  7AM      Coffee Hou\n",
       "    11 │ No Urgent Place  Partner    Sunny             80  6PM      Restaurant\n",
       "   ⋮   │        ⋮             ⋮         ⋮          ⋮          ⋮                ⋱\n",
       " 10138 │ Home             Alone      Sunny             80  6PM      Coffee Hou\n",
       " 10139 │ Home             Alone      Sunny             55  6PM      Restaurant ⋯\n",
       " 10140 │ No Urgent Place  Partner    Sunny             80  10AM     Coffee Hou\n",
       " 10141 │ Work             Alone      Sunny             80  7AM      Coffee Hou\n",
       " 10142 │ No Urgent Place  Alone      Rainy             55  2PM      Carry out\n",
       " 10143 │ Home             Kid(s)     Sunny             55  10PM     Restaurant ⋯\n",
       " 10144 │ Work             Alone      Sunny             80  7AM      Carry out\n",
       " 10145 │ Work             Alone      Sunny             55  7AM      Coffee Hou\n",
       " 10146 │ No Urgent Place  Friend(s)  Sunny             80  10AM     Carry out\n",
       " 10147 │ No Urgent Place  Partner    Sunny             30  10AM     Bar        ⋯\n",
       "\u001b[36m                                               20 columns and 10126 rows omitted\u001b[0m"
      ]
     },
     "execution_count": 63,
     "metadata": {},
     "output_type": "execute_result"
    }
   ],
   "source": [
    "# Saving the id and target columns in a different variable\n",
    "ids = df[!, Symbol(id_feature)]\n",
    "target = df[!, Symbol(target_feature)]\n",
    "\n",
    "# Dropping the id and target from the DataFrame\n",
    "select!(df, Not([Symbol(id_feature), Symbol(target_feature)]))"
   ]
  },
  {
   "cell_type": "markdown",
   "metadata": {},
   "source": [
    "##### Encoding Categorical features\n",
    "<p>\n",
    "The id column is just an identifier for the training example, so we will exclude it during the encoding phase.<br>\n",
    "Target feature will be label encoded in the next step.\n",
    "</p>\n"
   ]
  },
  {
   "cell_type": "code",
   "execution_count": 64,
   "metadata": {},
   "outputs": [],
   "source": [
    "# Function to get top 10 categories\n",
    "function get_top_categories(df, features, n=10)\n",
    "    top_cats = Dict()\n",
    "    for feature in features\n",
    "        col_data = df[!, feature]\n",
    "        category_counts = countmap(col_data)\n",
    "        sorted_categories = sort(collect(category_counts), by=x->x[2], rev=true)\n",
    "        \n",
    "        # Take minimum between n and the number of unique categories\n",
    "        num_categories = min(n, length(sorted_categories))\n",
    "        \n",
    "        top_cats[feature] = [x[1] for x in sorted_categories[1:num_categories]]\n",
    "    end\n",
    "    return top_cats\n",
    "end\n",
    "\n",
    "# Get top10 categories for specific features\n",
    "top_categories = get_top_categories(df, categorical_features)\n",
    "\n",
    "# Function to one-hot encode only the top 10 categories\n",
    "function one_hot_top_categories!(df, top_categories)\n",
    "    for (feature, top_cats) in top_categories\n",
    "        if length(top_cats) == 2  # Handle the binary case\n",
    "            # Assuming the first category in top_cats is treated as 'true'\n",
    "            new_col_name = \"$(feature)_binary\"\n",
    "            df[!, new_col_name] = df[!, feature] .== top_cats[1]\n",
    "        else  # Handle the general case\n",
    "            for cat in top_cats\n",
    "                new_col_name = \"$(feature)_$(cat)\"\n",
    "                df[!, new_col_name] = df[!, feature] .== cat\n",
    "            end\n",
    "        end\n",
    "        select!(df, Not(Symbol(feature)))  # Drop the original feature column\n",
    "    end\n",
    "end\n",
    "\n",
    "# Apply one-hot encoding\n",
    "one_hot_top_categories!(df, top_categories)\n",
    "\n",
    "# Serialize the imputation_values dictionary to a binary file\n",
    "open(TOP_CATEGORIES, \"w\") do io\n",
    "    serialize(io, top_categories)\n",
    "end\n"
   ]
  },
  {
   "cell_type": "markdown",
   "metadata": {},
   "source": [
    "### Encoding target feature"
   ]
  },
  {
   "cell_type": "code",
   "execution_count": 65,
   "metadata": {},
   "outputs": [
    {
     "data": {
      "text/plain": [
       "16"
      ]
     },
     "execution_count": 65,
     "metadata": {},
     "output_type": "execute_result"
    }
   ],
   "source": [
    "encoded_target = ifelse.(target .== positive_class, 1, 0)\n",
    "mapping = Dict(0 => negative_class, 1 => positive_class)\n",
    "\n",
    "open(TARGET_MAPPING, \"w\") do io\n",
    "    serialize(io, mapping)\n",
    "end\n",
    "\n",
    "open(TARGET_LEVELS, \"w\") do io\n",
    "    serialize(io, levels(target))\n",
    "end"
   ]
  },
  {
   "cell_type": "markdown",
   "metadata": {},
   "source": [
    "### Training the Classifier\n",
    "We choose Logistic Regression model, but feel free to try your own and compare the results."
   ]
  },
  {
   "cell_type": "code",
   "execution_count": 66,
   "metadata": {},
   "outputs": [],
   "source": [
    "predictor_columns = names(df)\n",
    "X = Matrix(df[!, predictor_columns])\n",
    "model = glm(X, encoded_target, Bernoulli(), LogitLink())\n",
    "\n",
    "# Save the model\n",
    "open(PREDICTOR_FILE_PATH, \"w\") do io\n",
    "    serialize(io, model)\n",
    "end\n"
   ]
  }
 ],
 "metadata": {
  "kernelspec": {
   "display_name": "Julia 1.9.3",
   "language": "julia",
   "name": "julia-1.9"
  },
  "language_info": {
   "file_extension": ".jl",
   "mimetype": "application/julia",
   "name": "julia",
   "version": "1.9.3"
  }
 },
 "nbformat": 4,
 "nbformat_minor": 4
}
