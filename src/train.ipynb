{
 "cells": [
  {
   "cell_type": "markdown",
   "metadata": {},
   "source": [
    "## Imports"
   ]
  },
  {
   "cell_type": "code",
   "execution_count": 11,
   "metadata": {},
   "outputs": [],
   "source": [
    "#DO NOT CHANGE THESE LINES\n",
    "using Suppressor\n",
    "@suppress begin\n",
    "    using DataFrames\n",
    "    using LazyJSON\n",
    "    using GLM \n",
    "    using MLJ \n",
    "    using MLJBase\n",
    "    using CSV\n",
    "    using Serialization\n",
    "    using MLJScientificTypes\n",
    "    using CategoricalArrays\n",
    "    # using JLD2\n",
    "    using StatsBase\n",
    "    using StatsModels\n",
    "    using MLJLinearModels\n",
    "end"
   ]
  },
  {
   "cell_type": "markdown",
   "metadata": {},
   "source": [
    "## Paths"
   ]
  },
  {
   "cell_type": "code",
   "execution_count": 12,
   "metadata": {},
   "outputs": [],
   "source": [
    "# DO NOT CHANGE THESE LINES\n",
    "ROOT_DIR = dirname(pwd())\n",
    "MODEL_INPUTS_OUTPUTS = joinpath(ROOT_DIR, \"model_inputs_outputs\")\n",
    "INPUT_DIR = joinpath(MODEL_INPUTS_OUTPUTS, \"inputs\")\n",
    "INPUT_SCHEMA_DIR = joinpath(INPUT_DIR, \"schema\")\n",
    "DATA_DIR = joinpath(INPUT_DIR, \"data\")\n",
    "TRAIN_DIR = joinpath(DATA_DIR, \"training\")\n",
    "TEST_DIR = joinpath(DATA_DIR, \"testing\")\n",
    "MODEL_PATH = joinpath(MODEL_INPUTS_OUTPUTS, \"model\")\n",
    "MODEL_ARTIFACTS_PATH = joinpath(MODEL_PATH, \"artifacts\")\n",
    "OHE_ENCODER_FILE = joinpath(MODEL_ARTIFACTS_PATH, \"ohe.ser\")\n",
    "PREDICTOR_DIR_PATH = joinpath(MODEL_ARTIFACTS_PATH, \"predictor\")\n",
    "PREDICTOR_FILE_PATH = joinpath(PREDICTOR_DIR_PATH, \"predictor.ser\")\n",
    "IMPUTATION_FILE = joinpath(MODEL_ARTIFACTS_PATH, \"imputation.ser\")\n",
    "TOP_CATEGORIES = joinpath(MODEL_ARTIFACTS_PATH, \"top_categories.ser\")\n",
    "TARGET_LEVELS = joinpath(MODEL_ARTIFACTS_PATH, \"target_levels.ser\")\n",
    "TARGET_MAPPING = joinpath(MODEL_ARTIFACTS_PATH, \"target_mapping.ser\")\n",
    "\n",
    "if !isdir(MODEL_ARTIFACTS_PATH)\n",
    "    mkdir(MODEL_ARTIFACTS_PATH)\n",
    "end\n",
    "if !isdir(PREDICTOR_DIR_PATH)\n",
    "    mkdir(PREDICTOR_DIR_PATH)\n",
    "end"
   ]
  },
  {
   "cell_type": "markdown",
   "metadata": {},
   "source": [
    "### Reading the schema\n",
    "The schema contains metadata about the datasets. We will use the scehma to get information about the type of each feature (NUMERIC or CATEGORICAL) and the id and target features, this will be helpful in preprocessing stage."
   ]
  },
  {
   "cell_type": "code",
   "execution_count": 13,
   "metadata": {},
   "outputs": [
    {
     "data": {
      "text/plain": [
       "\"M\""
      ]
     },
     "execution_count": 13,
     "metadata": {},
     "output_type": "execute_result"
    }
   ],
   "source": [
    "# Reading a schema from a JSON file and extracting features\n",
    "file_name = first(filter(x -> endswith(x, \"json\"), readdir(INPUT_SCHEMA_DIR)))\n",
    "schema_path = joinpath(INPUT_SCHEMA_DIR, file_name)\n",
    "schema_string = read(schema_path, String)  # Read file content as a string\n",
    "schema = LazyJSON.parse(schema_string)  # Parse using LazyJSON\n",
    "\n",
    "features = schema[\"features\"]\n",
    "\n",
    "# Identifying numeric, categorical, and nullable features\n",
    "numeric_features = String[]\n",
    "categorical_features = String[]\n",
    "nullable_features = String[]\n",
    "\n",
    "for f in features\n",
    "    if f[\"dataType\"] == \"CATEGORICAL\"\n",
    "        push!(categorical_features, f[\"name\"])\n",
    "    else\n",
    "        push!(numeric_features, f[\"name\"])\n",
    "    end\n",
    "    if f[\"nullable\"]\n",
    "        push!(nullable_features, f[\"name\"])\n",
    "    end\n",
    "end\n",
    "\n",
    "# Extracting ID and target features\n",
    "id_feature = schema[\"id\"][\"name\"]\n",
    "target_feature = schema[\"target\"][\"name\"]\n",
    "target_classes = schema[\"target\"][\"classes\"]\n",
    "\n",
    "if length(target_classes) == 2\n",
    "    negative_class = target_classes[1]\n",
    "    positive_class = target_classes[2]\n",
    "end\n"
   ]
  },
  {
   "cell_type": "markdown",
   "metadata": {},
   "source": [
    "### Reading training data"
   ]
  },
  {
   "cell_type": "code",
   "execution_count": 14,
   "metadata": {},
   "outputs": [
    {
     "data": {
      "text/html": [
       "<div class=\"data-frame\"><p>5 rows × 32 columns (omitted printing of 25 columns)</p><table class=\"data-frame\"><thead><tr><th></th><th>id</th><th>diagnosis</th><th>radius_mean</th><th>texture_mean</th><th>perimeter_mean</th><th>area_mean</th><th>smoothness_mean</th></tr><tr><th></th><th title=\"Int64\">Int64</th><th title=\"String1\">String1</th><th title=\"Float64\">Float64</th><th title=\"Float64\">Float64</th><th title=\"Float64\">Float64</th><th title=\"Float64\">Float64</th><th title=\"Float64\">Float64</th></tr></thead><tbody><tr><th>1</th><td>859471</td><td>B</td><td>9.029</td><td>17.33</td><td>58.79</td><td>250.5</td><td>0.1066</td></tr><tr><th>2</th><td>873593</td><td>M</td><td>21.09</td><td>26.57</td><td>142.7</td><td>1311.0</td><td>0.1141</td></tr><tr><th>3</th><td>859196</td><td>B</td><td>9.173</td><td>13.86</td><td>59.2</td><td>260.9</td><td>0.07721</td></tr><tr><th>4</th><td>88466802</td><td>B</td><td>10.65</td><td>25.22</td><td>68.01</td><td>347.0</td><td>0.09657</td></tr><tr><th>5</th><td>858970</td><td>B</td><td>10.17</td><td>14.88</td><td>64.55</td><td>311.9</td><td>0.1134</td></tr></tbody></table></div>"
      ],
      "text/latex": [
       "\\begin{tabular}{r|cccccccc}\n",
       "\t& id & diagnosis & radius\\_mean & texture\\_mean & perimeter\\_mean & area\\_mean & smoothness\\_mean & \\\\\n",
       "\t\\hline\n",
       "\t& Int64 & String1 & Float64 & Float64 & Float64 & Float64 & Float64 & \\\\\n",
       "\t\\hline\n",
       "\t1 & 859471 & B & 9.029 & 17.33 & 58.79 & 250.5 & 0.1066 & $\\dots$ \\\\\n",
       "\t2 & 873593 & M & 21.09 & 26.57 & 142.7 & 1311.0 & 0.1141 & $\\dots$ \\\\\n",
       "\t3 & 859196 & B & 9.173 & 13.86 & 59.2 & 260.9 & 0.07721 & $\\dots$ \\\\\n",
       "\t4 & 88466802 & B & 10.65 & 25.22 & 68.01 & 347.0 & 0.09657 & $\\dots$ \\\\\n",
       "\t5 & 858970 & B & 10.17 & 14.88 & 64.55 & 311.9 & 0.1134 & $\\dots$ \\\\\n",
       "\\end{tabular}\n"
      ],
      "text/plain": [
       "\u001b[1m5×32 DataFrame\u001b[0m\n",
       "\u001b[1m Row \u001b[0m│\u001b[1m id       \u001b[0m\u001b[1m diagnosis \u001b[0m\u001b[1m radius_mean \u001b[0m\u001b[1m texture_mean \u001b[0m\u001b[1m perimeter_mean \u001b[0m\u001b[1m area_me\u001b[0m ⋯\n",
       "\u001b[1m     \u001b[0m│\u001b[90m Int64    \u001b[0m\u001b[90m String1   \u001b[0m\u001b[90m Float64     \u001b[0m\u001b[90m Float64      \u001b[0m\u001b[90m Float64        \u001b[0m\u001b[90m Float64\u001b[0m ⋯\n",
       "─────┼──────────────────────────────────────────────────────────────────────────\n",
       "   1 │   859471  B                9.029         17.33           58.79      250 ⋯\n",
       "   2 │   873593  M               21.09          26.57          142.7      1311\n",
       "   3 │   859196  B                9.173         13.86           59.2       260\n",
       "   4 │ 88466802  B               10.65          25.22           68.01      347\n",
       "   5 │   858970  B               10.17          14.88           64.55      311 ⋯\n",
       "\u001b[36m                                                              27 columns omitted\u001b[0m"
      ]
     },
     "execution_count": 14,
     "metadata": {},
     "output_type": "execute_result"
    }
   ],
   "source": [
    "# Find the first CSV file in the TRAIN_DIR\n",
    "file_name = first(filter(x -> endswith(x, \".csv\"), readdir(TRAIN_DIR)))\n",
    "file_path = joinpath(TRAIN_DIR, file_name)\n",
    "\n",
    "# Read the CSV file into a DataFrame\n",
    "df = CSV.File(file_path) |> DataFrame\n",
    "\n",
    "# Display the first few rows of the DataFrame\n",
    "first(df, 5)\n"
   ]
  },
  {
   "cell_type": "markdown",
   "metadata": {},
   "source": [
    "## Data Preprocessing\n",
    "Data preprocessing is very important before training the model, as the data may contain missing values in some cells. Moreover, most of the learning algorithms cannot work with categorical data, thus the data has to be encoded.\n",
    "\n",
    "In this section we will impute the missing values and encode the categorical features. Afterwards the data will be ready to train the model."
   ]
  },
  {
   "cell_type": "markdown",
   "metadata": {},
   "source": [
    "##### Imputing missing data\n",
    "> The median value will be used to impute missing values of the numeric features and the mode will be used to impute categorical features.\n",
    "\n",
    "##### You can add your own preprocessing steps such as:\n",
    "<ul>\n",
    "<li>Normalization</li> <br>\n",
    "<li>Outlier removal</li><br>\n",
    "<li>Dropping or adding features</li><br>\n",
    "</ul>\n",
    "\n",
    "### Important note:\n",
    "<p> \n",
    "Saving the values used for imputation during training step is crucial. These values will be used to impute missing data in the testing set. This is very important to avoid the well known problem of data leakage. During testing, you should not make any assumptions about the data in hand, alternatively anything needed during the testing phase should be learned from the training phase. This is why we are creating a dictionary of values used during training to reuse these values during testing.\n",
    "</p>\n"
   ]
  },
  {
   "cell_type": "code",
   "execution_count": 15,
   "metadata": {},
   "outputs": [],
   "source": [
    "# Imputing missing data\n",
    "imputation_values = Dict{String, Any}()\n",
    "\n",
    "for column in nullable_features\n",
    "    if column in numeric_features\n",
    "        value = median(skipmissing(df[!, column]))\n",
    "    else\n",
    "        value = mode(skipmissing(df[!, column]))\n",
    "    end\n",
    "    df[!, column] = coalesce.(df[!, column], value)\n",
    "    imputation_values[column] = value\n",
    "end\n",
    "\n",
    "# Serialize the imputation_values dictionary to a binary file\n",
    "open(IMPUTATION_FILE, \"w\") do io\n",
    "    serialize(io, imputation_values)\n",
    "end\n"
   ]
  },
  {
   "cell_type": "code",
   "execution_count": 16,
   "metadata": {},
   "outputs": [
    {
     "data": {
      "text/html": [
       "<div class=\"data-frame\"><p>455 rows × 30 columns (omitted printing of 24 columns)</p><table class=\"data-frame\"><thead><tr><th></th><th>radius_mean</th><th>texture_mean</th><th>perimeter_mean</th><th>area_mean</th><th>smoothness_mean</th><th>compactness_mean</th></tr><tr><th></th><th title=\"Float64\">Float64</th><th title=\"Float64\">Float64</th><th title=\"Float64\">Float64</th><th title=\"Float64\">Float64</th><th title=\"Float64\">Float64</th><th title=\"Float64\">Float64</th></tr></thead><tbody><tr><th>1</th><td>9.029</td><td>17.33</td><td>58.79</td><td>250.5</td><td>0.1066</td><td>0.1413</td></tr><tr><th>2</th><td>21.09</td><td>26.57</td><td>142.7</td><td>1311.0</td><td>0.1141</td><td>0.2832</td></tr><tr><th>3</th><td>9.173</td><td>13.86</td><td>59.2</td><td>260.9</td><td>0.07721</td><td>0.08751</td></tr><tr><th>4</th><td>10.65</td><td>25.22</td><td>68.01</td><td>347.0</td><td>0.09657</td><td>0.07234</td></tr><tr><th>5</th><td>10.17</td><td>14.88</td><td>64.55</td><td>311.9</td><td>0.1134</td><td>0.08061</td></tr><tr><th>6</th><td>14.54</td><td>27.54</td><td>96.73</td><td>658.8</td><td>0.1139</td><td>0.1595</td></tr><tr><th>7</th><td>14.41</td><td>19.73</td><td>96.03</td><td>651.0</td><td>0.08757</td><td>0.1676</td></tr><tr><th>8</th><td>11.43</td><td>15.39</td><td>73.06</td><td>399.8</td><td>0.09639</td><td>0.06889</td></tr><tr><th>9</th><td>12.25</td><td>17.94</td><td>78.27</td><td>460.3</td><td>0.08654</td><td>0.06679</td></tr><tr><th>10</th><td>19.89</td><td>20.26</td><td>130.5</td><td>1214.0</td><td>0.1037</td><td>0.131</td></tr><tr><th>11</th><td>12.36</td><td>21.8</td><td>79.78</td><td>466.1</td><td>0.08772</td><td>0.09445</td></tr><tr><th>12</th><td>21.1</td><td>20.52</td><td>138.1</td><td>1384.0</td><td>0.09684</td><td>0.1175</td></tr><tr><th>13</th><td>14.87</td><td>16.67</td><td>98.64</td><td>682.5</td><td>0.1162</td><td>0.1649</td></tr><tr><th>14</th><td>9.667</td><td>18.49</td><td>61.49</td><td>289.1</td><td>0.08946</td><td>0.06258</td></tr><tr><th>15</th><td>13.4</td><td>16.95</td><td>85.48</td><td>552.4</td><td>0.07937</td><td>0.05696</td></tr><tr><th>16</th><td>19.27</td><td>26.47</td><td>127.9</td><td>1162.0</td><td>0.09401</td><td>0.1719</td></tr><tr><th>17</th><td>17.99</td><td>10.38</td><td>122.8</td><td>1001.0</td><td>0.1184</td><td>0.2776</td></tr><tr><th>18</th><td>15.22</td><td>30.62</td><td>103.4</td><td>716.9</td><td>0.1048</td><td>0.2087</td></tr><tr><th>19</th><td>14.26</td><td>18.17</td><td>91.22</td><td>633.1</td><td>0.06576</td><td>0.0522</td></tr><tr><th>20</th><td>11.7</td><td>19.11</td><td>74.33</td><td>418.7</td><td>0.08814</td><td>0.05253</td></tr><tr><th>21</th><td>15.27</td><td>12.91</td><td>98.17</td><td>725.5</td><td>0.08182</td><td>0.0623</td></tr><tr><th>22</th><td>15.34</td><td>14.26</td><td>102.5</td><td>704.4</td><td>0.1073</td><td>0.2135</td></tr><tr><th>23</th><td>13.51</td><td>18.89</td><td>88.1</td><td>558.1</td><td>0.1059</td><td>0.1147</td></tr><tr><th>24</th><td>10.48</td><td>19.86</td><td>66.72</td><td>337.7</td><td>0.107</td><td>0.05971</td></tr><tr><th>25</th><td>14.64</td><td>15.24</td><td>95.77</td><td>651.9</td><td>0.1132</td><td>0.1339</td></tr><tr><th>26</th><td>14.45</td><td>20.22</td><td>94.49</td><td>642.7</td><td>0.09872</td><td>0.1206</td></tr><tr><th>27</th><td>11.04</td><td>16.83</td><td>70.92</td><td>373.2</td><td>0.1077</td><td>0.07804</td></tr><tr><th>28</th><td>19.81</td><td>22.15</td><td>130.0</td><td>1260.0</td><td>0.09831</td><td>0.1027</td></tr><tr><th>29</th><td>10.26</td><td>12.22</td><td>65.75</td><td>321.6</td><td>0.09996</td><td>0.07542</td></tr><tr><th>30</th><td>12.89</td><td>13.12</td><td>81.89</td><td>515.9</td><td>0.06955</td><td>0.03729</td></tr><tr><th>&vellip;</th><td>&vellip;</td><td>&vellip;</td><td>&vellip;</td><td>&vellip;</td><td>&vellip;</td><td>&vellip;</td></tr></tbody></table></div>"
      ],
      "text/latex": [
       "\\begin{tabular}{r|ccccccc}\n",
       "\t& radius\\_mean & texture\\_mean & perimeter\\_mean & area\\_mean & smoothness\\_mean & compactness\\_mean & \\\\\n",
       "\t\\hline\n",
       "\t& Float64 & Float64 & Float64 & Float64 & Float64 & Float64 & \\\\\n",
       "\t\\hline\n",
       "\t1 & 9.029 & 17.33 & 58.79 & 250.5 & 0.1066 & 0.1413 & $\\dots$ \\\\\n",
       "\t2 & 21.09 & 26.57 & 142.7 & 1311.0 & 0.1141 & 0.2832 & $\\dots$ \\\\\n",
       "\t3 & 9.173 & 13.86 & 59.2 & 260.9 & 0.07721 & 0.08751 & $\\dots$ \\\\\n",
       "\t4 & 10.65 & 25.22 & 68.01 & 347.0 & 0.09657 & 0.07234 & $\\dots$ \\\\\n",
       "\t5 & 10.17 & 14.88 & 64.55 & 311.9 & 0.1134 & 0.08061 & $\\dots$ \\\\\n",
       "\t6 & 14.54 & 27.54 & 96.73 & 658.8 & 0.1139 & 0.1595 & $\\dots$ \\\\\n",
       "\t7 & 14.41 & 19.73 & 96.03 & 651.0 & 0.08757 & 0.1676 & $\\dots$ \\\\\n",
       "\t8 & 11.43 & 15.39 & 73.06 & 399.8 & 0.09639 & 0.06889 & $\\dots$ \\\\\n",
       "\t9 & 12.25 & 17.94 & 78.27 & 460.3 & 0.08654 & 0.06679 & $\\dots$ \\\\\n",
       "\t10 & 19.89 & 20.26 & 130.5 & 1214.0 & 0.1037 & 0.131 & $\\dots$ \\\\\n",
       "\t11 & 12.36 & 21.8 & 79.78 & 466.1 & 0.08772 & 0.09445 & $\\dots$ \\\\\n",
       "\t12 & 21.1 & 20.52 & 138.1 & 1384.0 & 0.09684 & 0.1175 & $\\dots$ \\\\\n",
       "\t13 & 14.87 & 16.67 & 98.64 & 682.5 & 0.1162 & 0.1649 & $\\dots$ \\\\\n",
       "\t14 & 9.667 & 18.49 & 61.49 & 289.1 & 0.08946 & 0.06258 & $\\dots$ \\\\\n",
       "\t15 & 13.4 & 16.95 & 85.48 & 552.4 & 0.07937 & 0.05696 & $\\dots$ \\\\\n",
       "\t16 & 19.27 & 26.47 & 127.9 & 1162.0 & 0.09401 & 0.1719 & $\\dots$ \\\\\n",
       "\t17 & 17.99 & 10.38 & 122.8 & 1001.0 & 0.1184 & 0.2776 & $\\dots$ \\\\\n",
       "\t18 & 15.22 & 30.62 & 103.4 & 716.9 & 0.1048 & 0.2087 & $\\dots$ \\\\\n",
       "\t19 & 14.26 & 18.17 & 91.22 & 633.1 & 0.06576 & 0.0522 & $\\dots$ \\\\\n",
       "\t20 & 11.7 & 19.11 & 74.33 & 418.7 & 0.08814 & 0.05253 & $\\dots$ \\\\\n",
       "\t21 & 15.27 & 12.91 & 98.17 & 725.5 & 0.08182 & 0.0623 & $\\dots$ \\\\\n",
       "\t22 & 15.34 & 14.26 & 102.5 & 704.4 & 0.1073 & 0.2135 & $\\dots$ \\\\\n",
       "\t23 & 13.51 & 18.89 & 88.1 & 558.1 & 0.1059 & 0.1147 & $\\dots$ \\\\\n",
       "\t24 & 10.48 & 19.86 & 66.72 & 337.7 & 0.107 & 0.05971 & $\\dots$ \\\\\n",
       "\t25 & 14.64 & 15.24 & 95.77 & 651.9 & 0.1132 & 0.1339 & $\\dots$ \\\\\n",
       "\t26 & 14.45 & 20.22 & 94.49 & 642.7 & 0.09872 & 0.1206 & $\\dots$ \\\\\n",
       "\t27 & 11.04 & 16.83 & 70.92 & 373.2 & 0.1077 & 0.07804 & $\\dots$ \\\\\n",
       "\t28 & 19.81 & 22.15 & 130.0 & 1260.0 & 0.09831 & 0.1027 & $\\dots$ \\\\\n",
       "\t29 & 10.26 & 12.22 & 65.75 & 321.6 & 0.09996 & 0.07542 & $\\dots$ \\\\\n",
       "\t30 & 12.89 & 13.12 & 81.89 & 515.9 & 0.06955 & 0.03729 & $\\dots$ \\\\\n",
       "\t$\\dots$ & $\\dots$ & $\\dots$ & $\\dots$ & $\\dots$ & $\\dots$ & $\\dots$ &  \\\\\n",
       "\\end{tabular}\n"
      ],
      "text/plain": [
       "\u001b[1m455×30 DataFrame\u001b[0m\n",
       "\u001b[1m Row \u001b[0m│\u001b[1m radius_mean \u001b[0m\u001b[1m texture_mean \u001b[0m\u001b[1m perimeter_mean \u001b[0m\u001b[1m area_mean \u001b[0m\u001b[1m smoothness_mean \u001b[0m\u001b[1m \u001b[0m ⋯\n",
       "\u001b[1m     \u001b[0m│\u001b[90m Float64     \u001b[0m\u001b[90m Float64      \u001b[0m\u001b[90m Float64        \u001b[0m\u001b[90m Float64   \u001b[0m\u001b[90m Float64         \u001b[0m\u001b[90m \u001b[0m ⋯\n",
       "─────┼──────────────────────────────────────────────────────────────────────────\n",
       "   1 │       9.029         17.33           58.79      250.5          0.1066    ⋯\n",
       "   2 │      21.09          26.57          142.7      1311.0          0.1141\n",
       "   3 │       9.173         13.86           59.2       260.9          0.07721\n",
       "   4 │      10.65          25.22           68.01      347.0          0.09657\n",
       "   5 │      10.17          14.88           64.55      311.9          0.1134    ⋯\n",
       "   6 │      14.54          27.54           96.73      658.8          0.1139\n",
       "   7 │      14.41          19.73           96.03      651.0          0.08757\n",
       "   8 │      11.43          15.39           73.06      399.8          0.09639\n",
       "   9 │      12.25          17.94           78.27      460.3          0.08654   ⋯\n",
       "  10 │      19.89          20.26          130.5      1214.0          0.1037\n",
       "  11 │      12.36          21.8            79.78      466.1          0.08772\n",
       "  ⋮  │      ⋮            ⋮              ⋮             ⋮             ⋮          ⋱\n",
       " 446 │      16.03          15.51          105.8       793.2          0.09491\n",
       " 447 │      14.19          23.81           92.87      610.7          0.09463   ⋯\n",
       " 448 │      13.14          20.74           85.98      536.9          0.08675\n",
       " 449 │      18.66          17.12          121.4      1077.0          0.1054\n",
       " 450 │      13.08          15.71           85.63      520.0          0.1075\n",
       " 451 │       8.888         14.64           58.79      244.0          0.09783   ⋯\n",
       " 452 │      11.64          18.33           75.17      412.5          0.1142\n",
       " 453 │      14.29          16.82           90.3       632.6          0.06429\n",
       " 454 │      13.98          19.62           91.12      599.5          0.106\n",
       " 455 │      12.18          20.52           77.22      458.7          0.08013   ⋯\n",
       "\u001b[36m                                                 25 columns and 434 rows omitted\u001b[0m"
      ]
     },
     "execution_count": 16,
     "metadata": {},
     "output_type": "execute_result"
    }
   ],
   "source": [
    "# Saving the id and target columns in a different variable\n",
    "ids = df[!, Symbol(id_feature)]\n",
    "target = df[!, Symbol(target_feature)]\n",
    "\n",
    "# Dropping the id and target from the DataFrame\n",
    "select!(df, Not([Symbol(id_feature), Symbol(target_feature)]))"
   ]
  },
  {
   "cell_type": "markdown",
   "metadata": {},
   "source": [
    "##### Encoding Categorical features\n",
    "<p>\n",
    "The id column is just an identifier for the training example, so we will exclude it during the encoding phase.<br>\n",
    "Target feature will be label encoded in the next step.\n",
    "</p>\n"
   ]
  },
  {
   "cell_type": "code",
   "execution_count": 17,
   "metadata": {},
   "outputs": [],
   "source": [
    "# Function to get top 10 categories\n",
    "function get_top_categories(df, features, n=10)\n",
    "    top_cats = Dict()\n",
    "    for feature in features\n",
    "        col_data = df[!, feature]\n",
    "        category_counts = countmap(col_data)\n",
    "        sorted_categories = sort(collect(category_counts), by=x->x[2], rev=true)\n",
    "        \n",
    "        # Take minimum between n and the number of unique categories\n",
    "        num_categories = min(n, length(sorted_categories))\n",
    "        \n",
    "        top_cats[feature] = [x[1] for x in sorted_categories[1:num_categories]]\n",
    "    end\n",
    "    return top_cats\n",
    "end\n",
    "\n",
    "# Get top10 categories for specific features\n",
    "top_categories = get_top_categories(df, categorical_features)\n",
    "\n",
    "# Function to one-hot encode only the top 10 categories\n",
    "function one_hot_top_categories!(df, top_categories)\n",
    "    for (feature, top_cats) in top_categories\n",
    "        if length(top_cats) == 2  # Handle the binary case\n",
    "            # Assuming the first category in top_cats is treated as 'true'\n",
    "            new_col_name = \"$(feature)_binary\"\n",
    "            df[!, new_col_name] = df[!, feature] .== top_cats[1]\n",
    "        else  # Handle the general case\n",
    "            for cat in top_cats\n",
    "                new_col_name = \"$(feature)_$(cat)\"\n",
    "                df[!, new_col_name] = df[!, feature] .== cat\n",
    "            end\n",
    "        end\n",
    "        select!(df, Not(Symbol(feature)))  # Drop the original feature column\n",
    "    end\n",
    "end\n",
    "\n",
    "# Apply one-hot encoding\n",
    "one_hot_top_categories!(df, top_categories)\n",
    "\n",
    "# Serialize the imputation_values dictionary to a binary file\n",
    "open(TOP_CATEGORIES, \"w\") do io\n",
    "    serialize(io, top_categories)\n",
    "end\n"
   ]
  },
  {
   "cell_type": "markdown",
   "metadata": {},
   "source": [
    "### Encoding target feature"
   ]
  },
  {
   "cell_type": "code",
   "execution_count": 18,
   "metadata": {},
   "outputs": [
    {
     "data": {
      "text/plain": [
       "2"
      ]
     },
     "execution_count": 18,
     "metadata": {},
     "output_type": "execute_result"
    }
   ],
   "source": [
    "# if length(target_classes) == 2\n",
    "#     encoded_target = ifelse.(target .== positive_class, 1, 0)\n",
    "#     mapping = Dict(0 => negative_class, 1 => positive_class)\n",
    "# else\n",
    "target = categorical(target)\n",
    "\n",
    "# end\n",
    "\n",
    "# open(TARGET_MAPPING, \"w\") do io\n",
    "#     serialize(io, mapping)\n",
    "# end\n",
    "\n",
    "open(TARGET_LEVELS, \"w\") do io\n",
    "    serialize(io, levels(target))\n",
    "end"
   ]
  },
  {
   "cell_type": "markdown",
   "metadata": {},
   "source": [
    "### Training the Classifier\n",
    "We choose Logistic Regression model, but feel free to try your own and compare the results."
   ]
  },
  {
   "cell_type": "code",
   "execution_count": 19,
   "metadata": {},
   "outputs": [
    {
     "name": "stdout",
     "output_type": "stream",
     "text": [
      "import MLJLinearModels ✔\n"
     ]
    },
    {
     "name": "stderr",
     "output_type": "stream",
     "text": [
      "\u001b[36m\u001b[1m[ \u001b[22m\u001b[39m\u001b[36m\u001b[1mInfo: \u001b[22m\u001b[39mFor silent loading, specify `verbosity=0`. \n",
      "\u001b[36m\u001b[1m[ \u001b[22m\u001b[39m\u001b[36m\u001b[1mInfo: \u001b[22m\u001b[39mTraining \u001b[34mMachine{LogisticClassifier,…} @267\u001b[39m.\n",
      "\u001b[36m\u001b[1m┌ \u001b[22m\u001b[39m\u001b[36m\u001b[1mInfo: \u001b[22m\u001b[39mSolver: LBFGS{Optim.Options{Float64, Nothing}, NamedTuple{(), Tuple{}}}\n",
      "\u001b[36m\u001b[1m│ \u001b[22m\u001b[39m  optim_options: Optim.Options{Float64, Nothing}\n",
      "\u001b[36m\u001b[1m└ \u001b[22m\u001b[39m  lbfgs_options: NamedTuple{(), Tuple{}} NamedTuple()\n"
     ]
    }
   ],
   "source": [
    "# if length(target_classes) == 2\n",
    "#     predictor_columns = names(df)\n",
    "#     X = Matrix(df[!, predictor_columns])\n",
    "#     model = glm(X, encoded_target, Bernoulli(), LogitLink())\n",
    "    \n",
    "# else\n",
    "model = MLJ.@load LogisticClassifier pkg=MLJLinearModels\n",
    "logistic_model = LogisticClassifier()\n",
    "\n",
    "for col in names(df)\n",
    "    if eltype(df[!, col]) <: Integer\n",
    "        df[!, col] = convert(Vector{Float64}, df[!, col])\n",
    "    end\n",
    "end\n",
    "\n",
    "\n",
    "model = machine(logistic_model, df, target)\n",
    "fit!(model)\n",
    "# end\n",
    "\n",
    "open(PREDICTOR_FILE_PATH, \"w\") do io\n",
    "    serialize(io, model)\n",
    "end\n",
    "\n"
   ]
  },
  {
   "cell_type": "code",
   "execution_count": null,
   "metadata": {},
   "outputs": [],
   "source": []
  }
 ],
 "metadata": {
  "kernelspec": {
   "display_name": "Julia 1.9.3",
   "language": "julia",
   "name": "julia-1.9"
  },
  "language_info": {
   "file_extension": ".jl",
   "mimetype": "application/julia",
   "name": "julia",
   "version": "1.9.3"
  }
 },
 "nbformat": 4,
 "nbformat_minor": 4
}
